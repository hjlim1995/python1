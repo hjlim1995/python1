{
 "cells": [
  {
   "cell_type": "code",
   "execution_count": 3,
   "metadata": {},
   "outputs": [],
   "source": [
    "import requests"
   ]
  },
  {
   "cell_type": "code",
   "execution_count": 4,
   "metadata": {},
   "outputs": [],
   "source": [
    "url=\"http://dataquestio.github.io/web-scraping-pages/simple.html\""
   ]
  },
  {
   "cell_type": "code",
   "execution_count": 5,
   "metadata": {},
   "outputs": [
    {
     "data": {
      "text/plain": [
       "<Response [200]>"
      ]
     },
     "execution_count": 5,
     "metadata": {},
     "output_type": "execute_result"
    }
   ],
   "source": [
    "page=requests.get(url)\n",
    "page"
   ]
  },
  {
   "cell_type": "code",
   "execution_count": 7,
   "metadata": {},
   "outputs": [
    {
     "data": {
      "text/plain": [
       "b'<!DOCTYPE html>\\n<html>\\n    <head>\\n        <title>A simple example page</title>\\n    </head>\\n    <body>\\n        <p>Here is some simple content for this page.</p>\\n    </body>\\n</html>'"
      ]
     },
     "execution_count": 7,
     "metadata": {},
     "output_type": "execute_result"
    }
   ],
   "source": [
    "page.content"
   ]
  },
  {
   "cell_type": "code",
   "execution_count": 8,
   "metadata": {},
   "outputs": [],
   "source": [
    "from bs4 import BeautifulSoup"
   ]
  },
  {
   "cell_type": "code",
   "execution_count": 10,
   "metadata": {},
   "outputs": [
    {
     "data": {
      "text/plain": [
       "<!DOCTYPE html>\n",
       "\n",
       "<html>\n",
       "<head>\n",
       "<title>A simple example page</title>\n",
       "</head>\n",
       "<body>\n",
       "<p>Here is some simple content for this page.</p>\n",
       "</body>\n",
       "</html>"
      ]
     },
     "execution_count": 10,
     "metadata": {},
     "output_type": "execute_result"
    }
   ],
   "source": [
    "soup = BeautifulSoup(page.content, 'html.parser')\n",
    "soup"
   ]
  },
  {
   "cell_type": "code",
   "execution_count": null,
   "metadata": {},
   "outputs": [],
   "source": []
  },
  {
   "cell_type": "code",
   "execution_count": 11,
   "metadata": {},
   "outputs": [
    {
     "data": {
      "text/plain": [
       "['html',\n",
       " '\\n',\n",
       " <html>\n",
       " <head>\n",
       " <title>A simple example page</title>\n",
       " </head>\n",
       " <body>\n",
       " <p>Here is some simple content for this page.</p>\n",
       " </body>\n",
       " </html>]"
      ]
     },
     "execution_count": 11,
     "metadata": {},
     "output_type": "execute_result"
    }
   ],
   "source": [
    "list(soup.children)"
   ]
  },
  {
   "cell_type": "code",
   "execution_count": 13,
   "metadata": {},
   "outputs": [
    {
     "name": "stdout",
     "output_type": "stream",
     "text": [
      "<class 'bs4.element.Doctype'>\n",
      "<class 'bs4.element.NavigableString'>\n",
      "<class 'bs4.element.Tag'>\n"
     ]
    }
   ],
   "source": [
    "for s in list(soup.children):\n",
    "    print(type(s))"
   ]
  },
  {
   "cell_type": "code",
   "execution_count": 15,
   "metadata": {},
   "outputs": [
    {
     "data": {
      "text/plain": [
       "<html>\n",
       "<head>\n",
       "<title>A simple example page</title>\n",
       "</head>\n",
       "<body>\n",
       "<p>Here is some simple content for this page.</p>\n",
       "</body>\n",
       "</html>"
      ]
     },
     "execution_count": 15,
     "metadata": {},
     "output_type": "execute_result"
    }
   ],
   "source": [
    "html=list(soup.children)[2]\n",
    "html"
   ]
  },
  {
   "cell_type": "code",
   "execution_count": 16,
   "metadata": {},
   "outputs": [
    {
     "data": {
      "text/plain": [
       "['\\n',\n",
       " <head>\n",
       " <title>A simple example page</title>\n",
       " </head>,\n",
       " '\\n',\n",
       " <body>\n",
       " <p>Here is some simple content for this page.</p>\n",
       " </body>,\n",
       " '\\n']"
      ]
     },
     "execution_count": 16,
     "metadata": {},
     "output_type": "execute_result"
    }
   ],
   "source": [
    "list(html.children)"
   ]
  },
  {
   "cell_type": "code",
   "execution_count": 18,
   "metadata": {},
   "outputs": [
    {
     "data": {
      "text/plain": [
       "<body>\n",
       "<p>Here is some simple content for this page.</p>\n",
       "</body>"
      ]
     },
     "execution_count": 18,
     "metadata": {},
     "output_type": "execute_result"
    }
   ],
   "source": [
    "body=list(html.children)[3]\n",
    "body"
   ]
  },
  {
   "cell_type": "code",
   "execution_count": 19,
   "metadata": {},
   "outputs": [
    {
     "data": {
      "text/plain": [
       "['\\n', <p>Here is some simple content for this page.</p>, '\\n']"
      ]
     },
     "execution_count": 19,
     "metadata": {},
     "output_type": "execute_result"
    }
   ],
   "source": [
    "list(body.children)"
   ]
  },
  {
   "cell_type": "code",
   "execution_count": 20,
   "metadata": {},
   "outputs": [
    {
     "data": {
      "text/plain": [
       "<p>Here is some simple content for this page.</p>"
      ]
     },
     "execution_count": 20,
     "metadata": {},
     "output_type": "execute_result"
    }
   ],
   "source": [
    "p=list(body.children)[1]\n",
    "p"
   ]
  },
  {
   "cell_type": "code",
   "execution_count": 21,
   "metadata": {},
   "outputs": [
    {
     "data": {
      "text/plain": [
       "'Here is some simple content for this page.'"
      ]
     },
     "execution_count": 21,
     "metadata": {},
     "output_type": "execute_result"
    }
   ],
   "source": [
    "p.get_text()"
   ]
  },
  {
   "cell_type": "code",
   "execution_count": null,
   "metadata": {},
   "outputs": [],
   "source": []
  },
  {
   "cell_type": "code",
   "execution_count": 22,
   "metadata": {},
   "outputs": [],
   "source": [
    "url=\"http://dataquestio.github.io/web-scraping-pages/simple.html\""
   ]
  },
  {
   "cell_type": "code",
   "execution_count": 25,
   "metadata": {},
   "outputs": [
    {
     "data": {
      "text/plain": [
       "<Response [200]>"
      ]
     },
     "execution_count": 25,
     "metadata": {},
     "output_type": "execute_result"
    }
   ],
   "source": [
    "page=requests.get(url)\n",
    "page"
   ]
  },
  {
   "cell_type": "code",
   "execution_count": 26,
   "metadata": {},
   "outputs": [],
   "source": [
    "url=\"http://dataquestio.github.io/web-scraping-pages/ids_and_classes.html\""
   ]
  },
  {
   "cell_type": "code",
   "execution_count": 27,
   "metadata": {},
   "outputs": [
    {
     "data": {
      "text/plain": [
       "<Response [200]>"
      ]
     },
     "execution_count": 27,
     "metadata": {},
     "output_type": "execute_result"
    }
   ],
   "source": [
    "page=requests.get(url)\n",
    "page"
   ]
  },
  {
   "cell_type": "code",
   "execution_count": 28,
   "metadata": {},
   "outputs": [
    {
     "data": {
      "text/plain": [
       "<html>\n",
       "<head>\n",
       "<title>A simple example page</title>\n",
       "</head>\n",
       "<body>\n",
       "<div>\n",
       "<p class=\"inner-text first-item\" id=\"first\">\n",
       "                First paragraph.\n",
       "            </p>\n",
       "<p class=\"inner-text\">\n",
       "                Second paragraph.\n",
       "            </p>\n",
       "</div>\n",
       "<p class=\"outer-text first-item\" id=\"second\">\n",
       "<b>\n",
       "                First outer paragraph.\n",
       "            </b>\n",
       "</p>\n",
       "<p class=\"outer-text\">\n",
       "<b>\n",
       "                Second outer paragraph.\n",
       "            </b>\n",
       "</p>\n",
       "</body>\n",
       "</html>"
      ]
     },
     "execution_count": 28,
     "metadata": {},
     "output_type": "execute_result"
    }
   ],
   "source": [
    "soup=BeautifulSoup(page.content, 'html.parser')\n",
    "soup"
   ]
  },
  {
   "cell_type": "code",
   "execution_count": 29,
   "metadata": {},
   "outputs": [
    {
     "data": {
      "text/plain": [
       "[<p class=\"inner-text first-item\" id=\"first\">\n",
       "                 First paragraph.\n",
       "             </p>,\n",
       " <p class=\"inner-text\">\n",
       "                 Second paragraph.\n",
       "             </p>,\n",
       " <p class=\"outer-text first-item\" id=\"second\">\n",
       " <b>\n",
       "                 First outer paragraph.\n",
       "             </b>\n",
       " </p>,\n",
       " <p class=\"outer-text\">\n",
       " <b>\n",
       "                 Second outer paragraph.\n",
       "             </b>\n",
       " </p>]"
      ]
     },
     "execution_count": 29,
     "metadata": {},
     "output_type": "execute_result"
    }
   ],
   "source": [
    "soup.find_all('p')"
   ]
  },
  {
   "cell_type": "code",
   "execution_count": 30,
   "metadata": {},
   "outputs": [
    {
     "data": {
      "text/plain": [
       "[<p class=\"outer-text first-item\" id=\"second\">\n",
       " <b>\n",
       "                 First outer paragraph.\n",
       "             </b>\n",
       " </p>,\n",
       " <p class=\"outer-text\">\n",
       " <b>\n",
       "                 Second outer paragraph.\n",
       "             </b>\n",
       " </p>]"
      ]
     },
     "execution_count": 30,
     "metadata": {},
     "output_type": "execute_result"
    }
   ],
   "source": [
    "soup.find_all('p', class_='outer-text')"
   ]
  },
  {
   "cell_type": "code",
   "execution_count": 32,
   "metadata": {},
   "outputs": [
    {
     "data": {
      "text/plain": [
       "<p class=\"inner-text first-item\" id=\"first\">\n",
       "                First paragraph.\n",
       "            </p>"
      ]
     },
     "execution_count": 32,
     "metadata": {},
     "output_type": "execute_result"
    }
   ],
   "source": [
    "p=soup.find('p')\n",
    "p"
   ]
  },
  {
   "cell_type": "code",
   "execution_count": 33,
   "metadata": {},
   "outputs": [
    {
     "data": {
      "text/plain": [
       "'\\n                First paragraph.\\n            '"
      ]
     },
     "execution_count": 33,
     "metadata": {},
     "output_type": "execute_result"
    }
   ],
   "source": [
    "p.get_text()"
   ]
  },
  {
   "cell_type": "code",
   "execution_count": 34,
   "metadata": {},
   "outputs": [
    {
     "data": {
      "text/plain": [
       "[<p class=\"inner-text first-item\" id=\"first\">\n",
       "                 First paragraph.\n",
       "             </p>,\n",
       " <p class=\"inner-text\">\n",
       "                 Second paragraph.\n",
       "             </p>]"
      ]
     },
     "execution_count": 34,
     "metadata": {},
     "output_type": "execute_result"
    }
   ],
   "source": [
    "soup.select('div p')"
   ]
  },
  {
   "cell_type": "code",
   "execution_count": 35,
   "metadata": {},
   "outputs": [
    {
     "data": {
      "text/plain": [
       "[<p class=\"inner-text first-item\" id=\"first\">\n",
       "                 First paragraph.\n",
       "             </p>,\n",
       " <p class=\"inner-text\">\n",
       "                 Second paragraph.\n",
       "             </p>,\n",
       " <p class=\"outer-text first-item\" id=\"second\">\n",
       " <b>\n",
       "                 First outer paragraph.\n",
       "             </b>\n",
       " </p>,\n",
       " <p class=\"outer-text\">\n",
       " <b>\n",
       "                 Second outer paragraph.\n",
       "             </b>\n",
       " </p>]"
      ]
     },
     "execution_count": 35,
     "metadata": {},
     "output_type": "execute_result"
    }
   ],
   "source": [
    "soup.select(\"body p\")"
   ]
  },
  {
   "cell_type": "code",
   "execution_count": 36,
   "metadata": {},
   "outputs": [
    {
     "data": {
      "text/plain": [
       "[<p class=\"inner-text first-item\" id=\"first\">\n",
       "                 First paragraph.\n",
       "             </p>,\n",
       " <p class=\"inner-text\">\n",
       "                 Second paragraph.\n",
       "             </p>,\n",
       " <p class=\"outer-text first-item\" id=\"second\">\n",
       " <b>\n",
       "                 First outer paragraph.\n",
       "             </b>\n",
       " </p>,\n",
       " <p class=\"outer-text\">\n",
       " <b>\n",
       "                 Second outer paragraph.\n",
       "             </b>\n",
       " </p>]"
      ]
     },
     "execution_count": 36,
     "metadata": {},
     "output_type": "execute_result"
    }
   ],
   "source": [
    "soup.find_all('p')"
   ]
  },
  {
   "cell_type": "code",
   "execution_count": 39,
   "metadata": {},
   "outputs": [
    {
     "data": {
      "text/plain": [
       "[<p class=\"inner-text first-item\" id=\"first\">\n",
       "                 First paragraph.\n",
       "             </p>,\n",
       " <p class=\"inner-text\">\n",
       "                 Second paragraph.\n",
       "             </p>,\n",
       " <p class=\"outer-text first-item\" id=\"second\">\n",
       " <b>\n",
       "                 First outer paragraph.\n",
       "             </b>\n",
       " </p>,\n",
       " <p class=\"outer-text\">\n",
       " <b>\n",
       "                 Second outer paragraph.\n",
       "             </b>\n",
       " </p>]"
      ]
     },
     "execution_count": 39,
     "metadata": {},
     "output_type": "execute_result"
    }
   ],
   "source": [
    "out_list=soup.select(\"body p\")\n",
    "out_list"
   ]
  },
  {
   "cell_type": "code",
   "execution_count": 41,
   "metadata": {},
   "outputs": [
    {
     "name": "stdout",
     "output_type": "stream",
     "text": [
      "\n",
      "                First paragraph.\n",
      "            \n",
      "\n",
      "                Second paragraph.\n",
      "            \n",
      "\n",
      "\n",
      "                First outer paragraph.\n",
      "            \n",
      "\n",
      "\n",
      "\n",
      "                Second outer paragraph.\n",
      "            \n",
      "\n"
     ]
    }
   ],
   "source": [
    "for out in out_list:\n",
    "    print(out.get_text())"
   ]
  },
  {
   "cell_type": "code",
   "execution_count": 42,
   "metadata": {},
   "outputs": [],
   "source": [
    "url=\"https://www.whitehouse.gov/briefings-statements/the-inaugural-address/\""
   ]
  },
  {
   "cell_type": "code",
   "execution_count": 43,
   "metadata": {},
   "outputs": [
    {
     "data": {
      "text/plain": [
       "<Response [200]>"
      ]
     },
     "execution_count": 43,
     "metadata": {},
     "output_type": "execute_result"
    }
   ],
   "source": [
    "page=requests.get(url)\n",
    "page"
   ]
  },
  {
   "cell_type": "code",
   "execution_count": 44,
   "metadata": {},
   "outputs": [
    {
     "data": {
      "text/plain": [
       "<!DOCTYPE html>\n",
       "\n",
       "<html class=\"no-js\" lang=\"en-US\" prefix=\"og: http://ogp.me/ns# fb: http://ogp.me/ns/fb#\">\n",
       "<head>\n",
       "<script>document.documentElement.className = document.documentElement.className.replace(/\\bno-js\\b/, 'js');</script>\n",
       "<meta charset=\"utf-8\"/>\n",
       "<meta content=\"ie=edge\" http-equiv=\"x-ua-compatible\"/><script type=\"text/javascript\">(window.NREUM||(NREUM={})).init={privacy:{cookies_enabled:true},distributed_tracing:{enabled:true}};(window.NREUM||(NREUM={})).loader_config={agentID:\"81565824\",accountID:\"1820100\",trustKey:\"1820100\",xpid:\"VQ4FUVdTCBAIVVFUBQUGVQ==\",licenseKey:\"9360826e15\",applicationID:\"81062413\"};window.NREUM||(NREUM={}),__nr_require=function(t,e,n){function r(n){if(!e[n]){var o=e[n]={exports:{}};t[n][0].call(o.exports,function(e){var o=t[n][1][e];return r(o||e)},o,o.exports)}return e[n].exports}if(\"function\"==typeof __nr_require)return __nr_require;for(var o=0;o<n.length;o++)r(n[o]);return r}({1:[function(t,e,n){function r(t){try{c.console&&console.log(t)}catch(e){}}var o,i=t(\"ee\"),a=t(27),c={};try{o=localStorage.getItem(\"__nr_flags\").split(\",\"),console&&\"function\"==typeof console.log&&(c.console=!0,o.indexOf(\"dev\")!==-1&&(c.dev=!0),o.indexOf(\"nr_dev\")!==-1&&(c.nrDev=!0))}catch(s){}c.nrDev&&i.on(\"internal-error\",function(t){r(t.stack)}),c.dev&&i.on(\"fn-err\",function(t,e,n){r(n.stack)}),c.dev&&(r(\"NR AGENT IN DEVELOPMENT MODE\"),r(\"flags: \"+a(c,function(t,e){return t}).join(\", \")))},{}],2:[function(t,e,n){function r(t,e,n,r,c){try{l?l-=1:o(c||new UncaughtException(t,e,n),!0)}catch(f){try{i(\"ierr\",[f,s.now(),!0])}catch(d){}}return\"function\"==typeof u&&u.apply(this,a(arguments))}function UncaughtException(t,e,n){this.message=t||\"Uncaught error with no additional information\",this.sourceURL=e,this.line=n}function o(t,e){var n=e?null:s.now();i(\"err\",[t,n])}var i=t(\"handle\"),a=t(28),c=t(\"ee\"),s=t(\"loader\"),f=t(\"gos\"),u=window.onerror,d=!1,p=\"nr@seenError\",l=0;s.features.err=!0,t(1),window.onerror=r;try{throw new Error}catch(h){\"stack\"in h&&(t(13),t(12),\"addEventListener\"in window&&t(6),s.xhrWrappable&&t(14),d=!0)}c.on(\"fn-start\",function(t,e,n){d&&(l+=1)}),c.on(\"fn-err\",function(t,e,n){d&&!n[p]&&(f(n,p,function(){return!0}),this.thrown=!0,o(n))}),c.on(\"fn-end\",function(){d&&!this.thrown&&l>0&&(l-=1)}),c.on(\"internal-error\",function(t){i(\"ierr\",[t,s.now(),!0])})},{}],3:[function(t,e,n){t(\"loader\").features.ins=!0},{}],4:[function(t,e,n){function r(){_++,T=g.hash,this[u]=y.now()}function o(){_--,g.hash!==T&&i(0,!0);var t=y.now();this[h]=~~this[h]+t-this[u],this[d]=t}function i(t,e){E.emit(\"newURL\",[\"\"+g,e])}function a(t,e){t.on(e,function(){this[e]=y.now()})}var c=\"-start\",s=\"-end\",f=\"-body\",u=\"fn\"+c,d=\"fn\"+s,p=\"cb\"+c,l=\"cb\"+s,h=\"jsTime\",m=\"fetch\",v=\"addEventListener\",w=window,g=w.location,y=t(\"loader\");if(w[v]&&y.xhrWrappable){var x=t(10),b=t(11),E=t(8),R=t(6),O=t(13),N=t(7),M=t(14),P=t(9),S=t(\"ee\"),C=S.get(\"tracer\");t(16),y.features.spa=!0;var T,_=0;S.on(u,r),S.on(p,r),S.on(d,o),S.on(l,o),S.buffer([u,d,\"xhr-done\",\"xhr-resolved\"]),R.buffer([u]),O.buffer([\"setTimeout\"+s,\"clearTimeout\"+c,u]),M.buffer([u,\"new-xhr\",\"send-xhr\"+c]),N.buffer([m+c,m+\"-done\",m+f+c,m+f+s]),E.buffer([\"newURL\"]),x.buffer([u]),b.buffer([\"propagate\",p,l,\"executor-err\",\"resolve\"+c]),C.buffer([u,\"no-\"+u]),P.buffer([\"new-jsonp\",\"cb-start\",\"jsonp-error\",\"jsonp-end\"]),a(M,\"send-xhr\"+c),a(S,\"xhr-resolved\"),a(S,\"xhr-done\"),a(N,m+c),a(N,m+\"-done\"),a(P,\"new-jsonp\"),a(P,\"jsonp-end\"),a(P,\"cb-start\"),E.on(\"pushState-end\",i),E.on(\"replaceState-end\",i),w[v](\"hashchange\",i,!0),w[v](\"load\",i,!0),w[v](\"popstate\",function(){i(0,_>1)},!0)}},{}],5:[function(t,e,n){function r(t){}if(window.performance&&window.performance.timing&&window.performance.getEntriesByType){var o=t(\"ee\"),i=t(\"handle\"),a=t(13),c=t(12),s=\"learResourceTimings\",f=\"addEventListener\",u=\"resourcetimingbufferfull\",d=\"bstResource\",p=\"resource\",l=\"-start\",h=\"-end\",m=\"fn\"+l,v=\"fn\"+h,w=\"bstTimer\",g=\"pushState\",y=t(\"loader\");y.features.stn=!0,t(8),\"addEventListener\"in window&&t(6);var x=NREUM.o.EV;o.on(m,function(t,e){var n=t[0];n instanceof x&&(this.bstStart=y.now())}),o.on(v,function(t,e){var n=t[0];n instanceof x&&i(\"bst\",[n,e,this.bstStart,y.now()])}),a.on(m,function(t,e,n){this.bstStart=y.now(),this.bstType=n}),a.on(v,function(t,e){i(w,[e,this.bstStart,y.now(),this.bstType])}),c.on(m,function(){this.bstStart=y.now()}),c.on(v,function(t,e){i(w,[e,this.bstStart,y.now(),\"requestAnimationFrame\"])}),o.on(g+l,function(t){this.time=y.now(),this.startPath=location.pathname+location.hash}),o.on(g+h,function(t){i(\"bstHist\",[location.pathname+location.hash,this.startPath,this.time])}),f in window.performance&&(window.performance[\"c\"+s]?window.performance[f](u,function(t){i(d,[window.performance.getEntriesByType(p)]),window.performance[\"c\"+s]()},!1):window.performance[f](\"webkit\"+u,function(t){i(d,[window.performance.getEntriesByType(p)]),window.performance[\"webkitC\"+s]()},!1)),document[f](\"scroll\",r,{passive:!0}),document[f](\"keypress\",r,!1),document[f](\"click\",r,!1)}},{}],6:[function(t,e,n){function r(t){for(var e=t;e&&!e.hasOwnProperty(u);)e=Object.getPrototypeOf(e);e&&o(e)}function o(t){c.inPlace(t,[u,d],\"-\",i)}function i(t,e){return t[1]}var a=t(\"ee\").get(\"events\"),c=t(\"wrap-function\")(a,!0),s=t(\"gos\"),f=XMLHttpRequest,u=\"addEventListener\",d=\"removeEventListener\";e.exports=a,\"getPrototypeOf\"in Object?(r(document),r(window),r(f.prototype)):f.prototype.hasOwnProperty(u)&&(o(window),o(f.prototype)),a.on(u+\"-start\",function(t,e){var n=t[1],r=s(n,\"nr@wrapped\",function(){function t(){if(\"function\"==typeof n.handleEvent)return n.handleEvent.apply(n,arguments)}var e={object:t,\"function\":n}[typeof n];return e?c(e,\"fn-\",null,e.name||\"anonymous\"):n});this.wrapped=t[1]=r}),a.on(d+\"-start\",function(t){t[1]=this.wrapped||t[1]})},{}],7:[function(t,e,n){function r(t,e,n){var r=t[e];\"function\"==typeof r&&(t[e]=function(){var t=i(arguments),e={};o.emit(n+\"before-start\",[t],e);var a;e[m]&&e[m].dt&&(a=e[m].dt);var c=r.apply(this,t);return o.emit(n+\"start\",[t,a],c),c.then(function(t){return o.emit(n+\"end\",[null,t],c),t},function(t){throw o.emit(n+\"end\",[t],c),t})})}var o=t(\"ee\").get(\"fetch\"),i=t(28),a=t(27);e.exports=o;var c=window,s=\"fetch-\",f=s+\"body-\",u=[\"arrayBuffer\",\"blob\",\"json\",\"text\",\"formData\"],d=c.Request,p=c.Response,l=c.fetch,h=\"prototype\",m=\"nr@context\";d&&p&&l&&(a(u,function(t,e){r(d[h],e,f),r(p[h],e,f)}),r(c,\"fetch\",s),o.on(s+\"end\",function(t,e){var n=this;if(e){var r=e.headers.get(\"content-length\");null!==r&&(n.rxSize=r),o.emit(s+\"done\",[null,e],n)}else o.emit(s+\"done\",[t],n)}))},{}],8:[function(t,e,n){var r=t(\"ee\").get(\"history\"),o=t(\"wrap-function\")(r);e.exports=r;var i=window.history&&window.history.constructor&&window.history.constructor.prototype,a=window.history;i&&i.pushState&&i.replaceState&&(a=i),o.inPlace(a,[\"pushState\",\"replaceState\"],\"-\")},{}],9:[function(t,e,n){function r(t){function e(){s.emit(\"jsonp-end\",[],p),t.removeEventListener(\"load\",e,!1),t.removeEventListener(\"error\",n,!1)}function n(){s.emit(\"jsonp-error\",[],p),s.emit(\"jsonp-end\",[],p),t.removeEventListener(\"load\",e,!1),t.removeEventListener(\"error\",n,!1)}var r=t&&\"string\"==typeof t.nodeName&&\"script\"===t.nodeName.toLowerCase();if(r){var o=\"function\"==typeof t.addEventListener;if(o){var a=i(t.src);if(a){var u=c(a),d=\"function\"==typeof u.parent[u.key];if(d){var p={};f.inPlace(u.parent,[u.key],\"cb-\",p),t.addEventListener(\"load\",e,!1),t.addEventListener(\"error\",n,!1),s.emit(\"new-jsonp\",[t.src],p)}}}}}function o(){return\"addEventListener\"in window}function i(t){var e=t.match(u);return e?e[1]:null}function a(t,e){var n=t.match(p),r=n[1],o=n[3];return o?a(o,e[r]):e[r]}function c(t){var e=t.match(d);return e&&e.length>=3?{key:e[2],parent:a(e[1],window)}:{key:t,parent:window}}var s=t(\"ee\").get(\"jsonp\"),f=t(\"wrap-function\")(s);if(e.exports=s,o()){var u=/[?&](?:callback|cb)=([^&#]+)/,d=/(.*)\\.([^.]+)/,p=/^(\\w+)(\\.|$)(.*)$/,l=[\"appendChild\",\"insertBefore\",\"replaceChild\"];Node&&Node.prototype&&Node.prototype.appendChild?f.inPlace(Node.prototype,l,\"dom-\"):(f.inPlace(HTMLElement.prototype,l,\"dom-\"),f.inPlace(HTMLHeadElement.prototype,l,\"dom-\"),f.inPlace(HTMLBodyElement.prototype,l,\"dom-\")),s.on(\"dom-start\",function(t){r(t[0])})}},{}],10:[function(t,e,n){var r=t(\"ee\").get(\"mutation\"),o=t(\"wrap-function\")(r),i=NREUM.o.MO;e.exports=r,i&&(window.MutationObserver=function(t){return this instanceof i?new i(o(t,\"fn-\")):i.apply(this,arguments)},MutationObserver.prototype=i.prototype)},{}],11:[function(t,e,n){function r(t){var e=a.context(),n=c(t,\"executor-\",e),r=new f(n);return a.context(r).getCtx=function(){return e},a.emit(\"new-promise\",[r,e],e),r}function o(t,e){return e}var i=t(\"wrap-function\"),a=t(\"ee\").get(\"promise\"),c=i(a),s=t(27),f=NREUM.o.PR;e.exports=a,f&&(window.Promise=r,[\"all\",\"race\"].forEach(function(t){var e=f[t];f[t]=function(n){function r(t){return function(){a.emit(\"propagate\",[null,!o],i),o=o||!t}}var o=!1;s(n,function(e,n){Promise.resolve(n).then(r(\"all\"===t),r(!1))});var i=e.apply(f,arguments),c=f.resolve(i);return c}}),[\"resolve\",\"reject\"].forEach(function(t){var e=f[t];f[t]=function(t){var n=e.apply(f,arguments);return t!==n&&a.emit(\"propagate\",[t,!0],n),n}}),f.prototype[\"catch\"]=function(t){return this.then(null,t)},f.prototype=Object.create(f.prototype,{constructor:{value:r}}),s(Object.getOwnPropertyNames(f),function(t,e){try{r[e]=f[e]}catch(n){}}),a.on(\"executor-start\",function(t){t[0]=c(t[0],\"resolve-\",this),t[1]=c(t[1],\"resolve-\",this)}),a.on(\"executor-err\",function(t,e,n){t[1](n)}),c.inPlace(f.prototype,[\"then\"],\"then-\",o),a.on(\"then-start\",function(t,e){this.promise=e,t[0]=c(t[0],\"cb-\",this),t[1]=c(t[1],\"cb-\",this)}),a.on(\"then-end\",function(t,e,n){this.nextPromise=n;var r=this.promise;a.emit(\"propagate\",[r,!0],n)}),a.on(\"cb-end\",function(t,e,n){a.emit(\"propagate\",[n,!0],this.nextPromise)}),a.on(\"propagate\",function(t,e,n){this.getCtx&&!e||(this.getCtx=function(){if(t instanceof Promise)var e=a.context(t);return e&&e.getCtx?e.getCtx():this})}),r.toString=function(){return\"\"+f})},{}],12:[function(t,e,n){var r=t(\"ee\").get(\"raf\"),o=t(\"wrap-function\")(r),i=\"equestAnimationFrame\";e.exports=r,o.inPlace(window,[\"r\"+i,\"mozR\"+i,\"webkitR\"+i,\"msR\"+i],\"raf-\"),r.on(\"raf-start\",function(t){t[0]=o(t[0],\"fn-\")})},{}],13:[function(t,e,n){function r(t,e,n){t[0]=a(t[0],\"fn-\",null,n)}function o(t,e,n){this.method=n,this.timerDuration=isNaN(t[1])?0:+t[1],t[0]=a(t[0],\"fn-\",this,n)}var i=t(\"ee\").get(\"timer\"),a=t(\"wrap-function\")(i),c=\"setTimeout\",s=\"setInterval\",f=\"clearTimeout\",u=\"-start\",d=\"-\";e.exports=i,a.inPlace(window,[c,\"setImmediate\"],c+d),a.inPlace(window,[s],s+d),a.inPlace(window,[f,\"clearImmediate\"],f+d),i.on(s+u,r),i.on(c+u,o)},{}],14:[function(t,e,n){function r(t,e){d.inPlace(e,[\"onreadystatechange\"],\"fn-\",c)}function o(){var t=this,e=u.context(t);t.readyState>3&&!e.resolved&&(e.resolved=!0,u.emit(\"xhr-resolved\",[],t)),d.inPlace(t,g,\"fn-\",c)}function i(t){y.push(t),h&&(b?b.then(a):v?v(a):(E=-E,R.data=E))}function a(){for(var t=0;t<y.length;t++)r([],y[t]);y.length&&(y=[])}function c(t,e){return e}function s(t,e){for(var n in t)e[n]=t[n];return e}t(6);var f=t(\"ee\"),u=f.get(\"xhr\"),d=t(\"wrap-function\")(u),p=NREUM.o,l=p.XHR,h=p.MO,m=p.PR,v=p.SI,w=\"readystatechange\",g=[\"onload\",\"onerror\",\"onabort\",\"onloadstart\",\"onloadend\",\"onprogress\",\"ontimeout\"],y=[];e.exports=u;var x=window.XMLHttpRequest=function(t){var e=new l(t);try{u.emit(\"new-xhr\",[e],e),e.addEventListener(w,o,!1)}catch(n){try{u.emit(\"internal-error\",[n])}catch(r){}}return e};if(s(l,x),x.prototype=l.prototype,d.inPlace(x.prototype,[\"open\",\"send\"],\"-xhr-\",c),u.on(\"send-xhr-start\",function(t,e){r(t,e),i(e)}),u.on(\"open-xhr-start\",r),h){var b=m&&m.resolve();if(!v&&!m){var E=1,R=document.createTextNode(E);new h(a).observe(R,{characterData:!0})}}else f.on(\"fn-end\",function(t){t[0]&&t[0].type===w||a()})},{}],15:[function(t,e,n){function r(t){if(!c(t))return null;var e=window.NREUM;if(!e.loader_config)return null;var n=(e.loader_config.accountID||\"\").toString()||null,r=(e.loader_config.agentID||\"\").toString()||null,f=(e.loader_config.trustKey||\"\").toString()||null;if(!n||!r)return null;var h=l.generateSpanId(),m=l.generateTraceId(),v=Date.now(),w={spanId:h,traceId:m,timestamp:v};return(t.sameOrigin||s(t)&&p())&&(w.traceContextParentHeader=o(h,m),w.traceContextStateHeader=i(h,v,n,r,f)),(t.sameOrigin&&!u()||!t.sameOrigin&&s(t)&&d())&&(w.newrelicHeader=a(h,m,v,n,r,f)),w}function o(t,e){return\"00-\"+e+\"-\"+t+\"-01\"}function i(t,e,n,r,o){var i=0,a=\"\",c=1,s=\"\",f=\"\";return o+\"@nr=\"+i+\"-\"+c+\"-\"+n+\"-\"+r+\"-\"+t+\"-\"+a+\"-\"+s+\"-\"+f+\"-\"+e}function a(t,e,n,r,o,i){var a=\"btoa\"in window&&\"function\"==typeof window.btoa;if(!a)return null;var c={v:[0,1],d:{ty:\"Browser\",ac:r,ap:o,id:t,tr:e,ti:n}};return i&&r!==i&&(c.d.tk=i),btoa(JSON.stringify(c))}function c(t){return f()&&s(t)}function s(t){var e=!1,n={};if(\"init\"in NREUM&&\"distributed_tracing\"in NREUM.init&&(n=NREUM.init.distributed_tracing),t.sameOrigin)e=!0;else if(n.allowed_origins instanceof Array)for(var r=0;r<n.allowed_origins.length;r++){var o=h(n.allowed_origins[r]);if(t.hostname===o.hostname&&t.protocol===o.protocol&&t.port===o.port){e=!0;break}}return e}function f(){return\"init\"in NREUM&&\"distributed_tracing\"in NREUM.init&&!!NREUM.init.distributed_tracing.enabled}function u(){return\"init\"in NREUM&&\"distributed_tracing\"in NREUM.init&&!!NREUM.init.distributed_tracing.exclude_newrelic_header}function d(){return\"init\"in NREUM&&\"distributed_tracing\"in NREUM.init&&NREUM.init.distributed_tracing.cors_use_newrelic_header!==!1}function p(){return\"init\"in NREUM&&\"distributed_tracing\"in NREUM.init&&!!NREUM.init.distributed_tracing.cors_use_tracecontext_headers}var l=t(24),h=t(17);e.exports={generateTracePayload:r,shouldGenerateTrace:c}},{}],16:[function(t,e,n){function r(t){var e=this.params,n=this.metrics;if(!this.ended){this.ended=!0;for(var r=0;r<p;r++)t.removeEventListener(d[r],this.listener,!1);e.aborted||(n.duration=a.now()-this.startTime,this.loadCaptureCalled||4!==t.readyState?null==e.status&&(e.status=0):i(this,t),n.cbTime=this.cbTime,u.emit(\"xhr-done\",[t],t),c(\"xhr\",[e,n,this.startTime]))}}function o(t,e){var n=s(e),r=t.params;r.host=n.hostname+\":\"+n.port,r.pathname=n.pathname,t.parsedOrigin=s(e),t.sameOrigin=t.parsedOrigin.sameOrigin}function i(t,e){t.params.status=e.status;var n=v(e,t.lastSize);if(n&&(t.metrics.rxSize=n),t.sameOrigin){var r=e.getResponseHeader(\"X-NewRelic-App-Data\");r&&(t.params.cat=r.split(\", \").pop())}t.loadCaptureCalled=!0}var a=t(\"loader\");if(a.xhrWrappable){var c=t(\"handle\"),s=t(17),f=t(15).generateTracePayload,u=t(\"ee\"),d=[\"load\",\"error\",\"abort\",\"timeout\"],p=d.length,l=t(\"id\"),h=t(21),m=t(20),v=t(18),w=window.XMLHttpRequest;a.features.xhr=!0,t(14),t(7),u.on(\"new-xhr\",function(t){var e=this;e.totalCbs=0,e.called=0,e.cbTime=0,e.end=r,e.ended=!1,e.xhrGuids={},e.lastSize=null,e.loadCaptureCalled=!1,t.addEventListener(\"load\",function(n){i(e,t)},!1),h&&(h>34||h<10)||window.opera||t.addEventListener(\"progress\",function(t){e.lastSize=t.loaded},!1)}),u.on(\"open-xhr-start\",function(t){this.params={method:t[0]},o(this,t[1]),this.metrics={}}),u.on(\"open-xhr-end\",function(t,e){\"loader_config\"in NREUM&&\"xpid\"in NREUM.loader_config&&this.sameOrigin&&e.setRequestHeader(\"X-NewRelic-ID\",NREUM.loader_config.xpid);var n=f(this.parsedOrigin);if(n){var r=!1;n.newrelicHeader&&(e.setRequestHeader(\"newrelic\",n.newrelicHeader),r=!0),n.traceContextParentHeader&&(e.setRequestHeader(\"traceparent\",n.traceContextParentHeader),n.traceContextStateHeader&&e.setRequestHeader(\"tracestate\",n.traceContextStateHeader),r=!0),r&&(this.dt=n)}}),u.on(\"send-xhr-start\",function(t,e){var n=this.metrics,r=t[0],o=this;if(n&&r){var i=m(r);i&&(n.txSize=i)}this.startTime=a.now(),this.listener=function(t){try{\"abort\"!==t.type||o.loadCaptureCalled||(o.params.aborted=!0),(\"load\"!==t.type||o.called===o.totalCbs&&(o.onloadCalled||\"function\"!=typeof e.onload))&&o.end(e)}catch(n){try{u.emit(\"internal-error\",[n])}catch(r){}}};for(var c=0;c<p;c++)e.addEventListener(d[c],this.listener,!1)}),u.on(\"xhr-cb-time\",function(t,e,n){this.cbTime+=t,e?this.onloadCalled=!0:this.called+=1,this.called!==this.totalCbs||!this.onloadCalled&&\"function\"==typeof n.onload||this.end(n)}),u.on(\"xhr-load-added\",function(t,e){var n=\"\"+l(t)+!!e;this.xhrGuids&&!this.xhrGuids[n]&&(this.xhrGuids[n]=!0,this.totalCbs+=1)}),u.on(\"xhr-load-removed\",function(t,e){var n=\"\"+l(t)+!!e;this.xhrGuids&&this.xhrGuids[n]&&(delete this.xhrGuids[n],this.totalCbs-=1)}),u.on(\"addEventListener-end\",function(t,e){e instanceof w&&\"load\"===t[0]&&u.emit(\"xhr-load-added\",[t[1],t[2]],e)}),u.on(\"removeEventListener-end\",function(t,e){e instanceof w&&\"load\"===t[0]&&u.emit(\"xhr-load-removed\",[t[1],t[2]],e)}),u.on(\"fn-start\",function(t,e,n){e instanceof w&&(\"onload\"===n&&(this.onload=!0),(\"load\"===(t[0]&&t[0].type)||this.onload)&&(this.xhrCbStart=a.now()))}),u.on(\"fn-end\",function(t,e){this.xhrCbStart&&u.emit(\"xhr-cb-time\",[a.now()-this.xhrCbStart,this.onload,e],e)}),u.on(\"fetch-before-start\",function(t){function e(t,e){var n=!1;return e.newrelicHeader&&(t.set(\"newrelic\",e.newrelicHeader),n=!0),e.traceContextParentHeader&&(t.set(\"traceparent\",e.traceContextParentHeader),e.traceContextStateHeader&&t.set(\"tracestate\",e.traceContextStateHeader),n=!0),n}var n,r=t[1]||{};\"string\"==typeof t[0]?n=t[0]:t[0]&&t[0].url&&(n=t[0].url),n&&(this.parsedOrigin=s(n),this.sameOrigin=this.parsedOrigin.sameOrigin);var o=f(this.parsedOrigin);if(o&&(o.newrelicHeader||o.traceContextParentHeader))if(\"string\"==typeof t[0]){var i={};for(var a in r)i[a]=r[a];i.headers=new Headers(r.headers||{}),e(i.headers,o)&&(this.dt=o),t.length>1?t[1]=i:t.push(i)}else t[0]&&t[0].headers&&e(t[0].headers,o)&&(this.dt=o)})}},{}],17:[function(t,e,n){var r={};e.exports=function(t){if(t in r)return r[t];var e=document.createElement(\"a\"),n=window.location,o={};e.href=t,o.port=e.port;var i=e.href.split(\"://\");!o.port&&i[1]&&(o.port=i[1].split(\"/\")[0].split(\"@\").pop().split(\":\")[1]),o.port&&\"0\"!==o.port||(o.port=\"https\"===i[0]?\"443\":\"80\"),o.hostname=e.hostname||n.hostname,o.pathname=e.pathname,o.protocol=i[0],\"/\"!==o.pathname.charAt(0)&&(o.pathname=\"/\"+o.pathname);var a=!e.protocol||\":\"===e.protocol||e.protocol===n.protocol,c=e.hostname===document.domain&&e.port===n.port;return o.sameOrigin=a&&(!e.hostname||c),\"/\"===o.pathname&&(r[t]=o),o}},{}],18:[function(t,e,n){function r(t,e){var n=t.responseType;return\"json\"===n&&null!==e?e:\"arraybuffer\"===n||\"blob\"===n||\"json\"===n?o(t.response):\"text\"===n||\"\"===n||void 0===n?o(t.responseText):void 0}var o=t(20);e.exports=r},{}],19:[function(t,e,n){function r(){}function o(t,e,n){return function(){return i(t,[f.now()].concat(c(arguments)),e?null:this,n),e?void 0:this}}var i=t(\"handle\"),a=t(27),c=t(28),s=t(\"ee\").get(\"tracer\"),f=t(\"loader\"),u=NREUM;\"undefined\"==typeof window.newrelic&&(newrelic=u);var d=[\"setPageViewName\",\"setCustomAttribute\",\"setErrorHandler\",\"finished\",\"addToTrace\",\"inlineHit\",\"addRelease\"],p=\"api-\",l=p+\"ixn-\";a(d,function(t,e){u[e]=o(p+e,!0,\"api\")}),u.addPageAction=o(p+\"addPageAction\",!0),u.setCurrentRouteName=o(p+\"routeName\",!0),e.exports=newrelic,u.interaction=function(){return(new r).get()};var h=r.prototype={createTracer:function(t,e){var n={},r=this,o=\"function\"==typeof e;return i(l+\"tracer\",[f.now(),t,n],r),function(){if(s.emit((o?\"\":\"no-\")+\"fn-start\",[f.now(),r,o],n),o)try{return e.apply(this,arguments)}catch(t){throw s.emit(\"fn-err\",[arguments,this,t],n),t}finally{s.emit(\"fn-end\",[f.now()],n)}}}};a(\"actionText,setName,setAttribute,save,ignore,onEnd,getContext,end,get\".split(\",\"),function(t,e){h[e]=o(l+e)}),newrelic.noticeError=function(t,e){\"string\"==typeof t&&(t=new Error(t)),i(\"err\",[t,f.now(),!1,e])}},{}],20:[function(t,e,n){e.exports=function(t){if(\"string\"==typeof t&&t.length)return t.length;if(\"object\"==typeof t){if(\"undefined\"!=typeof ArrayBuffer&&t instanceof ArrayBuffer&&t.byteLength)return t.byteLength;if(\"undefined\"!=typeof Blob&&t instanceof Blob&&t.size)return t.size;if(!(\"undefined\"!=typeof FormData&&t instanceof FormData))try{return JSON.stringify(t).length}catch(e){return}}}},{}],21:[function(t,e,n){var r=0,o=navigator.userAgent.match(/Firefox[\\/\\s](\\d+\\.\\d+)/);o&&(r=+o[1]),e.exports=r},{}],22:[function(t,e,n){function r(){return c.exists&&performance.now?Math.round(performance.now()):(i=Math.max((new Date).getTime(),i))-a}function o(){return i}var i=(new Date).getTime(),a=i,c=t(29);e.exports=r,e.exports.offset=a,e.exports.getLastTimestamp=o},{}],23:[function(t,e,n){function r(t,e){var n=t.getEntries();n.forEach(function(t){\"first-paint\"===t.name?d(\"timing\",[\"fp\",Math.floor(t.startTime)]):\"first-contentful-paint\"===t.name&&d(\"timing\",[\"fcp\",Math.floor(t.startTime)])})}function o(t,e){var n=t.getEntries();n.length>0&&d(\"lcp\",[n[n.length-1]])}function i(t){t.getEntries().forEach(function(t){t.hadRecentInput||d(\"cls\",[t])})}function a(t){if(t instanceof h&&!v){var e=Math.round(t.timeStamp),n={type:t.type};e<=p.now()?n.fid=p.now()-e:e>p.offset&&e<=Date.now()?(e-=p.offset,n.fid=p.now()-e):e=p.now(),v=!0,d(\"timing\",[\"fi\",e,n])}}function c(t){d(\"pageHide\",[p.now(),t])}if(!(\"init\"in NREUM&&\"page_view_timing\"in NREUM.init&&\"enabled\"in NREUM.init.page_view_timing&&NREUM.init.page_view_timing.enabled===!1)){var s,f,u,d=t(\"handle\"),p=t(\"loader\"),l=t(26),h=NREUM.o.EV;if(\"PerformanceObserver\"in window&&\"function\"==typeof window.PerformanceObserver){s=new PerformanceObserver(r);try{s.observe({entryTypes:[\"paint\"]})}catch(m){}f=new PerformanceObserver(o);try{f.observe({entryTypes:[\"largest-contentful-paint\"]})}catch(m){}u=new PerformanceObserver(i);try{u.observe({type:\"layout-shift\",buffered:!0})}catch(m){}}if(\"addEventListener\"in document){var v=!1,w=[\"click\",\"keydown\",\"mousedown\",\"pointerdown\",\"touchstart\"];w.forEach(function(t){document.addEventListener(t,a,!1)})}l(c)}},{}],24:[function(t,e,n){function r(){function t(){return e?15&e[n++]:16*Math.random()|0}var e=null,n=0,r=window.crypto||window.msCrypto;r&&r.getRandomValues&&(e=r.getRandomValues(new Uint8Array(31)));for(var o,i=\"xxxxxxxx-xxxx-4xxx-yxxx-xxxxxxxxxxxx\",a=\"\",c=0;c<i.length;c++)o=i[c],\"x\"===o?a+=t().toString(16):\"y\"===o?(o=3&t()|8,a+=o.toString(16)):a+=o;return a}function o(){return a(16)}function i(){return a(32)}function a(t){function e(){return n?15&n[r++]:16*Math.random()|0}var n=null,r=0,o=window.crypto||window.msCrypto;o&&o.getRandomValues&&Uint8Array&&(n=o.getRandomValues(new Uint8Array(31)));for(var i=[],a=0;a<t;a++)i.push(e().toString(16));return i.join(\"\")}e.exports={generateUuid:r,generateSpanId:o,generateTraceId:i}},{}],25:[function(t,e,n){function r(t,e){if(!o)return!1;if(t!==o)return!1;if(!e)return!0;if(!i)return!1;for(var n=i.split(\".\"),r=e.split(\".\"),a=0;a<r.length;a++)if(r[a]!==n[a])return!1;return!0}var o=null,i=null,a=/Version\\/(\\S+)\\s+Safari/;if(navigator.userAgent){var c=navigator.userAgent,s=c.match(a);s&&c.indexOf(\"Chrome\")===-1&&c.indexOf(\"Chromium\")===-1&&(o=\"Safari\",i=s[1])}e.exports={agent:o,version:i,match:r}},{}],26:[function(t,e,n){function r(t){function e(){t(a&&document[a]?document[a]:document[o]?\"hidden\":\"visible\")}\"addEventListener\"in document&&i&&document.addEventListener(i,e,!1)}e.exports=r;var o,i,a;\"undefined\"!=typeof document.hidden?(o=\"hidden\",i=\"visibilitychange\",a=\"visibilityState\"):\"undefined\"!=typeof document.msHidden?(o=\"msHidden\",i=\"msvisibilitychange\"):\"undefined\"!=typeof document.webkitHidden&&(o=\"webkitHidden\",i=\"webkitvisibilitychange\",a=\"webkitVisibilityState\")},{}],27:[function(t,e,n){function r(t,e){var n=[],r=\"\",i=0;for(r in t)o.call(t,r)&&(n[i]=e(r,t[r]),i+=1);return n}var o=Object.prototype.hasOwnProperty;e.exports=r},{}],28:[function(t,e,n){function r(t,e,n){e||(e=0),\"undefined\"==typeof n&&(n=t?t.length:0);for(var r=-1,o=n-e||0,i=Array(o<0?0:o);++r<o;)i[r]=t[e+r];return i}e.exports=r},{}],29:[function(t,e,n){e.exports={exists:\"undefined\"!=typeof window.performance&&window.performance.timing&&\"undefined\"!=typeof window.performance.timing.navigationStart}},{}],ee:[function(t,e,n){function r(){}function o(t){function e(t){return t&&t instanceof r?t:t?s(t,c,i):i()}function n(n,r,o,i){if(!p.aborted||i){t&&t(n,r,o);for(var a=e(o),c=m(n),s=c.length,f=0;f<s;f++)c[f].apply(a,r);var d=u[y[n]];return d&&d.push([x,n,r,a]),a}}function l(t,e){g[t]=m(t).concat(e)}function h(t,e){var n=g[t];if(n)for(var r=0;r<n.length;r++)n[r]===e&&n.splice(r,1)}function m(t){return g[t]||[]}function v(t){return d[t]=d[t]||o(n)}function w(t,e){f(t,function(t,n){e=e||\"feature\",y[n]=e,e in u||(u[e]=[])})}var g={},y={},x={on:l,addEventListener:l,removeEventListener:h,emit:n,get:v,listeners:m,context:e,buffer:w,abort:a,aborted:!1};return x}function i(){return new r}function a(){(u.api||u.feature)&&(p.aborted=!0,u=p.backlog={})}var c=\"nr@context\",s=t(\"gos\"),f=t(27),u={},d={},p=e.exports=o();p.backlog=u},{}],gos:[function(t,e,n){function r(t,e,n){if(o.call(t,e))return t[e];var r=n();if(Object.defineProperty&&Object.keys)try{return Object.defineProperty(t,e,{value:r,writable:!0,enumerable:!1}),r}catch(i){}return t[e]=r,r}var o=Object.prototype.hasOwnProperty;e.exports=r},{}],handle:[function(t,e,n){function r(t,e,n,r){o.buffer([t],r),o.emit(t,e,n)}var o=t(\"ee\").get(\"handle\");e.exports=r,r.ee=o},{}],id:[function(t,e,n){function r(t){var e=typeof t;return!t||\"object\"!==e&&\"function\"!==e?-1:t===window?0:a(t,i,function(){return o++})}var o=1,i=\"nr@id\",a=t(\"gos\");e.exports=r},{}],loader:[function(t,e,n){function r(){if(!b++){var t=x.info=NREUM.info,e=p.getElementsByTagName(\"script\")[0];if(setTimeout(f.abort,3e4),!(t&&t.licenseKey&&t.applicationID&&e))return f.abort();s(g,function(e,n){t[e]||(t[e]=n)});var n=a();c(\"mark\",[\"onload\",n+x.offset],null,\"api\"),c(\"timing\",[\"load\",n]);var r=p.createElement(\"script\");r.src=\"https://\"+t.agent,e.parentNode.insertBefore(r,e)}}function o(){\"complete\"===p.readyState&&i()}function i(){c(\"mark\",[\"domContent\",a()+x.offset],null,\"api\")}var a=t(22),c=t(\"handle\"),s=t(27),f=t(\"ee\"),u=t(25),d=window,p=d.document,l=\"addEventListener\",h=\"attachEvent\",m=d.XMLHttpRequest,v=m&&m.prototype;NREUM.o={ST:setTimeout,SI:d.setImmediate,CT:clearTimeout,XHR:m,REQ:d.Request,EV:d.Event,PR:d.Promise,MO:d.MutationObserver};var w=\"\"+location,g={beacon:\"bam.nr-data.net\",errorBeacon:\"bam.nr-data.net\",agent:\"js-agent.newrelic.com/nr-spa-1184.min.js\"},y=m&&v&&v[l]&&!/CriOS/.test(navigator.userAgent),x=e.exports={offset:a.getLastTimestamp(),now:a,origin:w,features:{},xhrWrappable:y,userAgent:u};t(19),t(23),p[l]?(p[l](\"DOMContentLoaded\",i,!1),d[l](\"load\",r,!1)):(p[h](\"onreadystatechange\",o),d[h](\"onload\",r)),c(\"mark\",[\"firstbyte\",a.getLastTimestamp()],null,\"api\");var b=0},{}],\"wrap-function\":[function(t,e,n){function r(t){return!(t&&t instanceof Function&&t.apply&&!t[a])}var o=t(\"ee\"),i=t(28),a=\"nr@original\",c=Object.prototype.hasOwnProperty,s=!1;e.exports=function(t,e){function n(t,e,n,o){function nrWrapper(){var r,a,c,s;try{a=this,r=i(arguments),c=\"function\"==typeof n?n(r,a):n||{}}catch(f){p([f,\"\",[r,a,o],c])}u(e+\"start\",[r,a,o],c);try{return s=t.apply(a,r)}catch(d){throw u(e+\"err\",[r,a,d],c),d}finally{u(e+\"end\",[r,a,s],c)}}return r(t)?t:(e||(e=\"\"),nrWrapper[a]=t,d(t,nrWrapper),nrWrapper)}function f(t,e,o,i){o||(o=\"\");var a,c,s,f=\"-\"===o.charAt(0);for(s=0;s<e.length;s++)c=e[s],a=t[c],r(a)||(t[c]=n(a,f?c+o:o,i,c))}function u(n,r,o){if(!s||e){var i=s;s=!0;try{t.emit(n,r,o,e)}catch(a){p([a,n,r,o])}s=i}}function d(t,e){if(Object.defineProperty&&Object.keys)try{var n=Object.keys(t);return n.forEach(function(n){Object.defineProperty(e,n,{get:function(){return t[n]},set:function(e){return t[n]=e,e}})}),e}catch(r){p([r])}for(var o in t)c.call(t,o)&&(e[o]=t[o]);return e}function p(e){try{t.emit(\"internal-error\",e)}catch(n){}}return t||(t=o),n.inPlace=f,n.flag=a,n}},{}]},{},[\"loader\",2,16,5,3,4]);</script>\n",
       "<meta content=\"width=device-width, initial-scale=1\" name=\"viewport\"/>\n",
       "<title>The Inaugural Address | The White House</title>\n",
       "<script type=\"application/ld+json\">[{\"@context\":\"https://schema.org\",\"@type\":\"BreadcrumbList\",\"itemListElement\":[{\"@type\":\"ListItem\",\"position\":1,\"name\":\"News\",\"item\":\"https://www.whitehouse.gov/news/\"},{\"@type\":\"ListItem\",\"position\":2,\"name\":\"Briefing Statements\",\"item\":\"https://www.whitehouse.gov/briefings-statements/\"},{\"@type\":\"ListItem\",\"position\":3,\"name\":\"The Inaugural Address\"}]}]</script>\n",
       "<meta content=\"REMARKS OF PRESIDENT DONALD J. TRUMP – AS PREPARED FOR DELIVERY INAUGURAL ADDRESS FRIDAY, JANUARY 20, 2017 WASHINGTON, D.C. As Prepared for Delivery – Chie\" name=\"description\">\n",
       "<link href=\"https://www.whitehouse.gov/briefings-statements/the-inaugural-address/\" rel=\"canonical\"/>\n",
       "<meta content=\"en_US\" property=\"og:locale\">\n",
       "<meta content=\"article\" property=\"og:type\">\n",
       "<meta content=\"The Inaugural Address | The White House\" property=\"og:title\"/>\n",
       "<meta content=\"REMARKS OF PRESIDENT DONALD J. TRUMP – AS PREPARED FOR DELIVERY INAUGURAL ADDRESS FRIDAY, JANUARY 20, 2017 WASHINGTON, D.C. As Prepared for Delivery – Chie\" property=\"og:description\"/>\n",
       "<meta content=\"https://www.whitehouse.gov/briefings-statements/the-inaugural-address/\" property=\"og:url\"/>\n",
       "<meta content=\"The White House\" property=\"og:site_name\"/>\n",
       "<meta content=\"https://facebook.com/whitehouse\" property=\"article:publisher\"/>\n",
       "<meta content=\"1790466490985150\" property=\"fb:app_id\"/>\n",
       "<meta content=\"https://www.whitehouse.gov/wp-content/uploads/2017/12/wh.gov-share-img_03-1024x538.png\" property=\"og:image\"/>\n",
       "<meta content=\"https://www.whitehouse.gov/wp-content/uploads/2017/12/wh.gov-share-img_03-1024x538.png\" property=\"og:image:secure_url\"/>\n",
       "<meta content=\"summary_large_image\" name=\"twitter:card\"/>\n",
       "<meta content=\"REMARKS OF PRESIDENT DONALD J. TRUMP – AS PREPARED FOR DELIVERY INAUGURAL ADDRESS FRIDAY, JANUARY 20, 2017 WASHINGTON, D.C. As Prepared for Delivery – Chie\" name=\"twitter:description\"/>\n",
       "<meta content=\"The Inaugural Address | The White House\" name=\"twitter:title\"/>\n",
       "<meta content=\"@whitehouse\" name=\"twitter:site\"/>\n",
       "<meta content=\"https://www.whitehouse.gov/wp-content/uploads/2017/12/wh.gov-share-img_03-1024x538.png\" name=\"twitter:image\"/>\n",
       "<meta content=\"@whitehouse\" name=\"twitter:creator\"/>\n",
       "<link crossorigin=\"\" href=\"https://fonts.googleapis.com\" rel=\"preconnect\"/>\n",
       "<link crossorigin=\"\" href=\"https://fonts.gstatic.com\" rel=\"preconnect\"/>\n",
       "<link href=\"https://fonts.googleapis.com/css2?family=Merriweather:ital,wght@0,300;0,400;0,700;0,900;1,300;1,400;1,700;1,900&amp;family=Source+Sans+Pro:ital,wght@0,300;0,400;0,600;0,700;1,300;1,400;1,600;1,700&amp;display=swap\" id=\"google-fonts-css\" media=\"all\" rel=\"stylesheet\" type=\"text/css\"/>\n",
       "<link href=\"https://www.whitehouse.gov/wp-content/themes/whitehouse/assets/dist/site.min.css?ver=25664de2\" id=\"site-css\" media=\"all\" rel=\"stylesheet\" type=\"text/css\"/>\n",
       "<script id=\"polyfills-js\" nomodule=\"\" src=\"https://www.whitehouse.gov/wp-content/themes/whitehouse/assets/dist/polyfills.min.js?ver=25664de2\" type=\"text/javascript\"></script>\n",
       "<link href=\"/favicon.ico?ver=25664de2\" rel=\"icon\" type=\"image/x-icon\"/>\n",
       "<link href=\"/favicon-32x32.png?ver=25664de2\" rel=\"icon\" sizes=\"32x32\" type=\"image/png\"/>\n",
       "<link href=\"/favicon-16x16.png?ver=25664de2\" rel=\"icon\" sizes=\"16x16\" type=\"image/png\"/>\n",
       "<link href=\"/apple-touch-icon-precomposed.png?ver=25664de2\" rel=\"apple-touch-icon-precomposed\" sizes=\"180x180\"/>\n",
       "<link href=\"/touch-icon-256x256.png?ver=25664de2\" rel=\"icon\" sizes=\"256x256\" type=\"image/png\"/>\n",
       "<link href=\"/touch-icon-192x192.png?ver=25664de2\" rel=\"icon\" sizes=\"192x192\" type=\"image/png\"/>\n",
       "<link href=\"/site.webmanifest?ver=25664de2\" rel=\"manifest\"/>\n",
       "<link color=\"#336799\" href=\"/safari-pinned-tab.svg?ver=25664de2\" rel=\"mask-icon\"/>\n",
       "<meta content=\"The White House\" name=\"apple-mobile-web-app-title\"/>\n",
       "<meta content=\"The White House\" name=\"application-name\"/>\n",
       "<meta content=\"#0c2644\" name=\"msapplication-TileColor\"/>\n",
       "<meta content=\"#f5f5f5\" name=\"theme-color\"/>\n",
       "<!-- Global site tag (gtag.js) - Google Analytics -->\n",
       "<script async=\"\" src=\"https://www.googletagmanager.com/gtag/js?id=UA-12099831-10\"></script>\n",
       "<script>\n",
       "\t\twindow.dataLayer = window.dataLayer || [];\n",
       "\t\tfunction gtag(){dataLayer.push(arguments);}\n",
       "\t\tgtag('js', new Date());\n",
       "\n",
       "\t\tgtag('config', 'UA-12099831-10');\n",
       "\t\twindow.gtag_id = 'UA-12099831-10';\n",
       "\t</script>\n",
       "<script>!function(a){var e=\"https://s.go-mpulse.net/boomerang/\",t=\"addEventListener\";if(\"False\"==\"True\")a.BOOMR_config=a.BOOMR_config||{},a.BOOMR_config.PageParams=a.BOOMR_config.PageParams||{},a.BOOMR_config.PageParams.pci=!0,e=\"https://s2.go-mpulse.net/boomerang/\";if(window.BOOMR_API_key=\"B75PJ-VWDMF-FF8GY-2P7NB-DC3RE\",function(){function n(e){a.BOOMR_onload=e&&e.timeStamp||(new Date).getTime()}if(!a.BOOMR||!a.BOOMR.version&&!a.BOOMR.snippetExecuted){a.BOOMR=a.BOOMR||{},a.BOOMR.snippetExecuted=!0;var i,_,o,r=document.createElement(\"iframe\");if(a[t])a[t](\"load\",n,!1);else if(a.attachEvent)a.attachEvent(\"onload\",n);r.src=\"javascript:void(0)\",r.title=\"\",r.role=\"presentation\",(r.frameElement||r).style.cssText=\"width:0;height:0;border:0;display:none;\",o=document.getElementsByTagName(\"script\")[0],o.parentNode.insertBefore(r,o);try{_=r.contentWindow.document}catch(O){i=document.domain,r.src=\"javascript:var d=document.open();d.domain='\"+i+\"';void(0);\",_=r.contentWindow.document}_.open()._l=function(){var a=this.createElement(\"script\");if(i)this.domain=i;a.id=\"boomr-if-as\",a.src=e+\"B75PJ-VWDMF-FF8GY-2P7NB-DC3RE\",BOOMR_lstart=(new Date).getTime(),this.body.appendChild(a)},_.write(\"<bo\"+'dy onload=\"document._l();\">'),_.close()}}(),\"\".length>0)if(a&&\"performance\"in a&&a.performance&&\"function\"==typeof a.performance.setResourceTimingBufferSize)a.performance.setResourceTimingBufferSize();!function(){if(BOOMR=a.BOOMR||{},BOOMR.plugins=BOOMR.plugins||{},!BOOMR.plugins.AK){var e=\"\"==\"true\"?1:0,t=\"\",n=\"3zvbwblijlgoex6ssyvq-f-fcca23e79-clientnsv4-s.akamaihd.net\",i={\"ak.v\":\"29\",\"ak.cp\":\"653138\",\"ak.ai\":parseInt(\"351244\",10),\"ak.ol\":\"0\",\"ak.cr\":57,\"ak.ipv\":4,\"ak.proto\":\"http/1.1\",\"ak.rid\":\"18b58078\",\"ak.r\":31686,\"ak.a2\":e,\"ak.m\":\"dscb\",\"ak.n\":\"essl\",\"ak.bpcip\":\"222.106.27.0\",\"ak.cport\":58744,\"ak.gh\":\"23.59.151.14\",\"ak.quicv\":\"\",\"ak.tlsv\":\"tls1.3\",\"ak.0rtt\":\"\",\"ak.csrc\":\"-\",\"ak.acc\":\"reno\",\"ak.t\":\"1607636523\",\"ak.ak\":\"hOBiQwZUYzCg5VSAfCLimQ==x/PqPNSahctQ1qYCfDETdDbq8VxEuSDSYq+NJ4iImmWtl8NnYptcqQ/BUae0jTw1d1HZHL5GRhjeUaGVYhqh9OSSCNutUQlb2M7gtoq33+qla8eXn/+RG8iOSKoy8QYuGdsOWGKly5n122YtmlQEWB4Luk0pkGfCNpNK7W/3LHYIyoLELSk6mGNf2LRaeOxWrXW98lgGpRB/YV53dy6Wi4Z8wLwdKP7DrhTi7HBakiTzHsj75Eg0iCuHi3HUkBUbA55ZiP/gwHCyLRK6Y97GTYZ3Efal5o1bWF1jVyvHPq3l988CLoHVhwnlnGtMQETjddsdo6+WoJu4v+zOqw825kNH2EbsmMPtsAZDKPOuMdw3oalhm/c4V9Rw0gGLlPcl+CgRBg12bIuQ30jttCTPlOJnsPF923fuA8YwdHrxZ9k=\",\"ak.pv\":\"259\",\"ak.dpoabenc\":\"\"};if(\"\"!==t)i[\"ak.ruds\"]=t;var _={i:!1,av:function(e){var t=\"http.initiator\";if(e&&(!e[t]||\"spa_hard\"===e[t]))i[\"ak.feo\"]=void 0!==a.aFeoApplied?1:0,BOOMR.addVar(i)},rv:function(){var a=[\"ak.bpcip\",\"ak.cport\",\"ak.cr\",\"ak.csrc\",\"ak.gh\",\"ak.ipv\",\"ak.m\",\"ak.n\",\"ak.ol\",\"ak.proto\",\"ak.quicv\",\"ak.tlsv\",\"ak.0rtt\",\"ak.r\",\"ak.acc\",\"ak.t\"];BOOMR.removeVar(a)}};BOOMR.plugins.AK={akVars:i,akDNSPreFetchDomain:n,init:function(){if(!_.i){var a=BOOMR.subscribe;a(\"before_beacon\",_.av,null,null),a(\"onbeacon\",_.rv,null,null),_.i=!0}return this},is_complete:function(){return!0}}}}()}(window);</script></meta></meta></meta></head>\n",
       "<body class=\"briefing-statement-template-default single single-briefing-statement postid-3857\">\n",
       "<a class=\"skip-link\" href=\"#main-content\"><span>Skip to content</span></a>\n",
       "<div class=\"body-overflow\">\n",
       "<header class=\"header header--dark header--mobile-share\">\n",
       "<div class=\"header__container\">\n",
       "<div class=\"header__inner\">\n",
       "<button aria-label=\"Open Menu\" class=\"header__hamburger\" type=\"button\">\n",
       "<b class=\"svg svg--hamburger\"><svg focusable=\"false\" height=\"20\" role=\"img\" viewbox=\"0 0 24 14\" width=\"28\" xmlns=\"http://www.w3.org/2000/svg\"><title>Open Menu</title><path d=\"M.64,12H16.36c.36,0,.64.43.64,1s-.28,1-.64,1H.64C.28,14,0,13.57,0,13s.28-1,.64-1M23.1,2H.9A.94.94,0,0,1,0,1,.94.94,0,0,1,.9,0H23.1A.94.94,0,0,1,24,1a.94.94,0,0,1-.9,1M.9,8A.94.94,0,0,1,0,7,.94.94,0,0,1,.9,6H23.1A.94.94,0,0,1,24,7a.94.94,0,0,1-.9,1Z\" fill=\"#A98860\"></path></svg></b> </button>\n",
       "<div class=\"header__wrap\">\n",
       "<div class=\"header__logo\">\n",
       "<a href=\"https://www.whitehouse.gov\">\n",
       "<span class=\"visually-hidden\">WhiteHouse.gov</span>\n",
       "<b class=\"svg svg--logo\"><svg focusable=\"false\" height=\"35\" role=\"img\" viewbox=\"0 0 300 140\" width=\"75\" xmlns=\"http://www.w3.org/2000/svg\"><title>WhiteHouse.gov</title><style>.st0{fill:#fff}.st1{fill:#cbcbca}.st2,.st3{fill:#d9dce1}</style><path class=\"st0\" d=\"M149.8 93.2V59.6h-39l39 33.6zM145 70.7h4.4v6.7H145v-6.7zm4.4 7.8v6.8H145v-6.8h4.4zm.9-18.9v33.6l39-33.6h-39zm4.9 25.7h-4.4v-6.7h4.4v6.7zm-4.4-7.9v-6.7h4.4v6.7h-4.4z\"></path><path class=\"st0\" d=\"M189.6 59.6l-39.4 34 2.4 3h-5.2l2.4-3-39.5-34H2.7v73h141.6v-27.2h5.2v27.3h1v-27.3h5.2v27.3h141.6v-73H189.6zM109 70.7h4.4v6.7H109v-6.7zm-25.8 0h4.4v6.7h-4.4v-6.7zm0 7.8h4.4v6.8h-4.4v-6.8zm-5.8-7.8h4.4v6.7h-4.3v-6.7zm0 7.8h4.4v6.8h-4.3v-6.8zm-22-7.8h4.4v6.7h-4.3v-6.7zm-16.2 0h4.3v6.7h-4.3v-6.7zm0 7.8h4.3v6.8h-4.3v-6.8zm-5.8-7.8h4.4v6.7h-4.3v-6.7zm0 7.8h4.4v6.8h-4.3v-6.8zm-22-7.8h4.4v6.7h-4.4v-6.7zm0 7.8h4.4v6.8h-4.4v-6.8zm4.6 46h-4.3v-8.1H16v8zm0-9.2h-4.3v-8H16v8zm0-9.3h-4.3v-8H16v8zm-3.5-12.6h-.7c0-1.5 2.2-3.4 4.7-3.4s4.7 1.9 4.7 3.4h-.7c0-1.3-1.7-2.2-4-2.2s-4 .9-4 2.2zm8.8 31H17v-8h4.4v8zm0-9.1H17v-8h4.4v8zm0-9.3H17v-8h4.4v8zm.2-20.7h-4.3v-6.7h4.3v6.7zm0-7.9h-4.3v-6.7h4.3v6.7zm16.5 47h-4.3v-8H38v8zm0-9.1h-4.3v-8H38v8zm0-9.3h-4.3v-8H38v8zm5.3 18.4H39v-8h4.3v8zm0-9.1H39v-8h4.3v8zm0-9.3H39v-8h4.3v8zM43 93.4l-4.4-2-4.4 2h-1.3l5.7-3.4 5.7 3.4H43zm12.6-14.9h4.3v6.8h-4.3v-6.8zm4.5 46h-4.3v-8.1H60v8zm0-9.2h-4.3v-8H60v8zm0-9.3h-4.3v-8H60v8zm-3.5-12.6h-.7c0-1.5 2.2-3.4 4.7-3.4s4.7 1.9 4.7 3.4h-.7c0-1.3-1.7-2.2-4-2.2s-4 .9-4 2.2zm8.8 31H61v-8h4.4v8zm0-9.1H61v-8h4.4v8zm0-9.3H61v-8h4.4v8zm.2-20.7h-4.3v-6.7h4.3v6.7zm0-7.9h-4.3v-6.7h4.3v6.7zm16.5 47h-4.3v-8H82v8zm0-9.1h-4.3v-8H82v8zm0-9.3h-4.3v-8H82v8zm5.3 18.4H83v-8h4.3v8zm0-9.1H83v-8h4.3v8zm0-9.3H83v-8h4.3v8zM87 93.4l-4.4-2-4.4 2h-1.3l5.7-3.4 5.7 3.4H87zm22-14.9h4.4v6.8H109v-6.8zm4.7 46h-4.4v-8.1h4.4v8zm0-9.2h-4.4v-8h4.4v8zm0-9.3h-4.4v-8h4.4v8zM110 93.5h-.8c0-1.6 2.2-3.5 4.7-3.5 2.6 0 4.8 2 4.8 3.4h-.8c0-1.3-1.7-2.2-4-2.2s-4 .9-4 2.3zm8.8 31h-4.4v-8.1h4.4v8zm0-9.2h-4.4v-8h4.4v8zm0-9.3h-4.4v-8h4.4v8zm.2-20.7h-4.4v-6.7h4.4v6.7zm0-7.9h-4.4v-6.7h4.4v6.7zm30.6 23.9h-2.3v-4.4h2.3v4.4zm2.9 0h-2.3v-4.4h2.3v4.4zm123.7-30.6h4.4v6.7h-4.4v-6.7zm-16.2 0h4.4v6.7h-4.4v-6.7zm0 7.8h4.4v6.8h-4.4v-6.8zm-5.7-7.8h4.4v6.7h-4.4v-6.7zm0 7.8h4.4v6.8h-4.4v-6.8zm-22-7.8h4.4v6.7h-4.3v-6.7zm-16.1 0h4.3v6.7h-4.3v-6.7zm0 7.8h4.3v6.8h-4.3v-6.8zm-5.8-7.8h4.4v6.7h-4.4v-6.7zm0 7.8h4.4v6.8h-4.4v-6.8zm-32-7.8h4.5v6.7h-4.4v-6.7zm0 7.8h4.5v6.8h-4.4v-6.8zm4.7 46h-4.4v-8.1h4.4v8zm0-9.2h-4.4v-8h4.4v8zm0-9.3h-4.4v-8h4.4v8zm-3.5-12.5h-.8c0-1.6 2.2-3.5 4.7-3.5 2.6 0 4.8 2 4.8 3.4h-.8c0-1.3-1.7-2.2-4-2.2s-4 .9-4 2.3zm8.8 31H184v-8.1h4.4v8zm0-9.2H184v-8h4.4v8zm0-9.3H184v-8h4.4v8zm.2-20.7h-4.4v-6.7h4.4v6.7zm0-7.9h-4.4v-6.7h4.4v6.7zm26.4 47h-4.3v-8h4.3v8zm0-9.1h-4.3v-8h4.3v8zm0-9.3h-4.3v-8h4.3v8zm5.3 18.4H216v-8h4.4v8zm0-9.1H216v-8h4.4v8zm0-9.3H216v-8h4.4v8zm-.4-12.6l-4.4-2-4.4 2h-1.3l5.7-3.4 5.7 3.4H220zm12.5-14.9h4.3v6.8h-4.3v-6.8zm4.6 46h-4.4v-8.1h4.4v8zm0-9.2h-4.4v-8h4.4v8zm0-9.3h-4.4v-8h4.4v8zm-3.6-12.5h-.7c0-1.6 2.2-3.5 4.7-3.5 2.6 0 4.7 1.9 4.7 3.5h-.7c0-1.4-1.7-2.3-4-2.3s-4 .9-4 2.3zm8.8 31H238v-8.1h4.3v8zm0-9.2H238v-8h4.3v8zm0-9.3H238v-8h4.3v8zm.3-20.7h-4.4v-6.7h4.4v6.7zm0-7.9h-4.4v-6.7h4.4v6.7zm16.4 47h-4.4v-8h4.4v8zm0-9.1h-4.4v-8h4.4v8zm0-9.3h-4.4v-8h4.4v8zm5.3 18.4h-4.4v-8h4.4v8zm0-9.1h-4.4v-8h4.4v8zm0-9.3h-4.4v-8h4.4v8zm-.5-12.6l-4.4-2-4.3 2h-1.4l5.8-3.4 5.7 3.4h-1.4zm12.5-14.9h4.4v6.8h-4.4v-6.8zm4.6 46h-4.3v-8.1h4.3v8zm0-9.2h-4.3v-8h4.3v8zm0-9.3h-4.3v-8h4.3v8zm-3.5-12.6h-.7c0-1.5 2.2-3.4 4.7-3.4s4.7 1.9 4.7 3.4h-.7c0-1.3-1.7-2.2-4-2.2s-4 .9-4 2.2zm8.8 31h-4.4v-8h4.4v8zm0-9.1h-4.4v-8h4.4v8zm0-9.3h-4.4v-8h4.4v8zm.2-20.7h-4.3v-6.7h4.3v6.7zm0-7.9h-4.3v-6.7h4.3v6.7zM0 48.2v1.3h2.7v8.1h294.7v-8H300v-1.4H0zm5.4 6.5h-1v-5.4h1v5.4zm1.8 0h-1v-5.4h1v5.4zm1.8 0H8v-5.4h1v5.4zm1.7 0h-1v-5.4h1v5.4zm1.8 0h-1v-5.4h1v5.4zm1.8 0h-1v-5.4h1v5.4zm1.8 0h-1v-5.4h1v5.4zm1.7 0h-1v-5.4h1v5.4zm1.8 0h-1v-5.4h1v5.4zm6.9 0h-1v-5.4h1v5.4zm1.8 0h-1v-5.4h1v5.4zm1.7 0h-1v-5.4h1v5.4zm1.8 0h-1v-5.4h1v5.4zm1.8 0h-1v-5.4h1v5.4zm1.8 0h-1v-5.4h1v5.4zm1.7 0h-1v-5.4h1v5.4zm1.8 0h-1v-5.4h1v5.4zm1.8 0h-1v-5.4h1v5.4zm6.9 0h-1v-5.4h1v5.4zm1.7 0h-1v-5.4h1v5.4zm1.8 0h-1v-5.4h1v5.4zm1.8 0h-1v-5.4h1v5.4zm1.8 0h-1v-5.4h1v5.4zm1.7 0h-1v-5.4h1v5.4zm1.8 0h-1v-5.4h1v5.4zm1.8 0h-1v-5.4h1v5.4zm1.8 0h-1v-5.4h1v5.4zm6.8 0h-1v-5.4h1v5.4zm1.8 0h-1v-5.4h1v5.4zm1.8 0h-1v-5.4h1v5.4zm1.8 0h-1v-5.4h1v5.4zm1.7 0h-1v-5.4h1v5.4zm1.8 0h-1v-5.4h1v5.4zm1.8 0h-1v-5.4h1v5.4zm1.8 0h-1v-5.4h1v5.4zm1.7 0h-1v-5.4h1v5.4zm135.3 0h-1v-5.4h1v5.4zm1.8 0h-1v-5.4h1v5.4zm1.8 0h-1v-5.4h1v5.4zm1.8 0h-1v-5.4h1v5.4zm1.7 0h-1v-5.4h1v5.4zm1.8 0h-1v-5.4h1v5.4zm1.8 0h-1v-5.4h1v5.4zm1.7 0h-1v-5.4h1v5.4zm1.8 0h-1v-5.4h1v5.4zm7 0h-1v-5.4h1v5.4zm1.7 0h-1v-5.4h1v5.4zm1.8 0h-1v-5.4h1v5.4zm1.7 0h-1v-5.4h1v5.4zm1.8 0h-1v-5.4h1v5.4zm1.8 0h-1v-5.4h1v5.4zm1.8 0h-1v-5.4h1v5.4zm1.7 0h-1v-5.4h1v5.4zm1.8 0h-1v-5.4h1v5.4zm6.9 0h-1v-5.4h1v5.4zm1.8 0h-1v-5.4h1v5.4zm1.7 0h-1v-5.4h1v5.4zm1.8 0h-1v-5.4h1v5.4zm1.8 0h-1v-5.4h1v5.4zm1.8 0h-1v-5.4h1v5.4zm1.7 0h-1v-5.4h1v5.4zm1.8 0h-1v-5.4h1v5.4zm1.8 0h-1v-5.4h1v5.4zm6.9 0h-1v-5.4h1v5.4zm1.7 0h-1v-5.4h1v5.4zm1.8 0h-1v-5.4h1v5.4zm1.8 0h-1v-5.4h1v5.4zm1.8 0h-1v-5.4h1v5.4zm1.7 0h-1v-5.4h1v5.4zm1.8 0h-1v-5.4h1v5.4zm1.8 0h-1v-5.4h1v5.4zm1.8 0h-1v-5.4h1v5.4zM150.3 15.6V9.8c-.2 0-.4.3-.6.5v-.1 5.4h.6z\"></path><path class=\"st0\" d=\"M149.7 7.7V7c5.5-3.4 10.9 3.4 16.3 0v.7c-5.4 3.4-10.8-3.5-16.3 0zM166 9v-.7c-5.4 3.4-10.8-3.4-16.3 0V9c5.5-3.4 10.9 3.4 16.3 0zm-15.2.8c5.1-2 10.1 3.7 15.2.5v-.7c-5.4 3.5-10.8-3.4-16.3 0v.7l1.2-.6zm1.2-6v-.1l-.1.1-.2.1h.2l-.1.3.1-.2.2.1V4v-.1h-.1zm0-1V3h-.3.2v.2h.2V3h-.1v-.2zm.9 1.2H153.2V4v-.2h-.1v-.1l-.1.1h-.2l.1.1V4zm-.9.8v-.2.2h-.3.2V5l.2.1V5l.1-.2h-.2zm-.6-3.3v.2h-.2l.1.2V2l.1-.1h.2v-.1-.2h-.1zm1.2 3.6V5h-.1v.1h-.2l.1.2v.1h.2v-.2h0zm0-2l-.2.2h-.1l.1.2v.1h.2v-.2h0V3zm.5 1.7l.1.1v-.1-.1h-.1v-.2l-.1.2h-.2.1V5h.2zm-.6-.8v.2h-.2l.1.1v.2h.2v-.1l.1-.2h-.1V4zm0-2.7v.2h-.2l.1.1v.2l.1-.1h.1v-.1l.1-.1h-.2v-.2zm0 1v.1h-.2l.1.1v.2l.1-.1.2.1-.1-.2h.1v-.1h-.1v-.2zm-1 .2l-.1.2h-.2.1V3l.1-.2h.2v-.2h-.1v-.1zm.5-.6V2h-.3.2V2.3l.2.1v-.2l.1-.1h-.2V2zm-1.7 1.9V4h-.2l.1.1v.2l.1-.2h.2v-.3l-.1.1v-.1zm0 .9v.2h-.2l.1.1v.2l.1-.2h.2v-.3l-.1.1v-.1zm0-1.8V3h-.2l.2.1-.1.2.1-.2h.2V3h-.1V3zm0-1v.3h-.2.1v.3l.1-.2h.2v-.1V2h-.1zm5.3.2l.1-.1.2.1V2h-.1v-.3l-.1.2h-.2.1v.3zm-5.2 3.6v-.1.1l-.1.1-.2.1h.1v.2l.1-.1h.2v-.2-.1zm1-2.3v.2h-.2.1V4l.1-.2h.2v-.2h-.1v-.1zM151 5V5 5h-.3l.2.1v.1h.2v-.2l.1-.1h-.2zm.5-.7v.2h-.2.1v.2H151.6v-.1-.2h-.1v-.1zm-.5-2.1v.2h-.3l.2.1v0h.2l.1-.2h-.2v-.1zm.6 3.1v-.1l-.1.1-.2.1h.1v.3l.1-.2.2.1v-.2-.1h-.1zm-.6-2.2v.2h-.3l.2.1v0h.1l.1.1v-.2l.1-.1h-.2v-.1zm0 1V4v.2h-.3l.2.1v0h.2l.1-.2h-.2zm2.6.3l.2.1v-.1l.1-.2h-.2V4v.2h-.3l.2.1zm1.6-.2H155.4l-.1-.1h.1l-.1-.1-.1-.2v.1h-.3l.2.1v.2zm0 1l.1-.2.2.2-.1-.2h.1l-.1-.1-.1-.2v.2h-.3.2v.2zm0-2v.1h.2v-.1h.1l-.2-.1v-.2.1h-.3l.2.1v.2zm0-.8H155.4l-.1-.1.1-.1h-.1l-.1-.2V2h-.3l.2.1v.2zm-.5.2v.1l.2.1v-.2h-.1v-.3l-.1.2h-.2l.2.1zm0 1l.2.1v-.1l.1-.1h-.2v-.2l-.1.1h-.2l.1.1v.2zm0-1.8l.2.1v-.2h-.1v-.3l-.1.2h-.2l.1.1v.2zm1 4l.1-.2.2.2v-.2l-.1-.1v-.1-.1h-.1v.1h-.2l.1.1v.2zM152.9 3h.2v-.2h0v-.2l-.1.1h-.2l.1.1v.2zm2.7 1.6v.1H155.9v-.1l-.1-.1v-.2l-.1.1h-.2l.1.1v.1zm0-.8H155.9v-.1l-.1-.1v-.2l-.1.1h-.2l.1.1V4zm0-1h.1l.2.2v-.2-.1h-.1v-.2l-.1.1h-.2l.2.1zm-2.1-.4v.1h.2v-.1h.1v-.1h-.2v-.2.2h-.3l.2.1zm0 1l.2.1v-.2h.1l-.2-.1v-.2.2h-.3l.2.1v.2zm0-1.8h.2v-.1l.1-.1h-.2v-.2.2h-.3.2v.3zm0 3.7v-.1l.2.1v-.2h-.1V5v.1h-.3l.2.1v.2zm-.6-3.2H153.2V2h-.1v-.3l-.1.2h-.2l.1.1v.2zm1.6 3.3H154.8v-.1l.1-.1h-.2v-.1V5l-.1.1h-.2l.1.1v.2zM154 5l.1-.1.2.1v-.2l-.1-.1v-.2l-.1.2h-.2l.1.1V5zm.5-.5h.1l.2.1v-.2h-.1V4l-.1.2h-.2l.1.1zm-.5-2.3H154.3v-.1V2h-.1v-.2l-.1.2h-.2.1v.3zm0 .9h.1l.2.1V3l-.1-.1v-.2l-.1.2h-.2l.1.1v.1zm0 1l.1-.1h.2V4l-.1-.1v-.2l-.1.2h-.2.1v.3zm2.2 1.8c3.3.9 6.5 2.5 9.8.5v-.7c-3.3 2-6.5.4-9.8-.5v-.7c3.3 1 6.6 2.6 9.8.5v-.6c-3.3 2-6.5.4-9.8-.5v-.7c3.3 1 6.6 2.6 9.8.5v-.6c-3.3 2-6.5.4-9.8-.5v-.7c3.3 1 6.6 2.6 9.8.5v-.7c-3.3 2-6.5.4-9.8-.5V6zm-6.4-4.6V7 1.3zm6.5 0l-.5-.1a19.6 19.6 0 00-6 .1v.2c.9-.3 2.3-.4 3.8-.4l2.2.2.6.1v-.1zm-71 45l-1-2.9 9.3-3.8V28.7l24.3-.2L150 15l31.6 13.5 24.8.3-.1 10.8 9.4 3.9-1 2.9H85.3zM0 134.7h300v5.4H0z\"></path><path class=\"st1\" d=\"M192 66h-86l-10.8-6.4h109.3z\" opacity=\".1\"></path><path class=\"st3\" d=\"M137 132.3h-.2v-1c0-.2 0-.3-.2-.5a1 1 0 00-.3-.7h-.1a1 1 0 00-.2-.4l-.1-.2a421687 421687 0 01-.8-62l.2-.6c0-.3 0-.6-.2-.9v-1.5c.1-.2.2-.3.1-.5v-.8c.2 0 .2-.2.3-.3.3-.2.5-.5.5-1l.1-.4v-1.1-.3h.7l-.4-.4h-7.9-.2l-.1.4h.6V62c0 .5.3.8.6 1l.2.3v.7l.1.6.1 1.4c-.3.4-.4 1-.2 1.4l.1.2.1.3-.8 61.7-.1.2-.2.3-.1.2a1 1 0 00-.3.7l-.2.4v1.4h9v-.4zm34 0h-.3v-1c0-.2 0-.3-.2-.5a1 1 0 00-.3-.7 1 1 0 00-.3-.4l-.1-.2a421687 421687 0 01-.7-62l.2-.6c0-.3 0-.6-.2-.9h-.1v-1.5l.2-.5v-.8l.2-.3c.3-.2.5-.5.5-1l.2-.4v-1.1-.3h.6l-.3-.4h-8-.2l-.1.4h.6V62c.1.5.3.8.6 1l.2.3v.7c0 .3 0 .4.2.6v1.4c-.3.4-.3 1-.2 1.4l.2.2v.3l-.8 61.7v.2c-.2 0-.2.2-.3.3v.2a1 1 0 00-.4.7l-.2.4v1.4h9v-.4zm-68.9 0h-.2v-1l-.2-.5a1 1 0 00-.4-.7 1 1 0 00-.2-.4l-.1-.2a421687 421687 0 01-.8-62l.2-.6c0-.3 0-.6-.2-.9v-1.5c.1-.2.2-.3.1-.5v-.8c.2 0 .2-.2.3-.3.3-.2.5-.5.5-1l.1-.4v-1.1-.3h.7l-.4-.4h-7.9-.2l-.1.4h.6V62c0 .5.3.8.6 1l.2.3v.7l.1.6v1.4c-.2.4-.3 1 0 1.4v.2l.1.3-.8 61.7-.1.2-.2.3-.1.2a1 1 0 00-.3.7l-.2.4v1.4h9l-.1-.4zm101.8 0h-.3v-1l-.1-.5a1 1 0 00-.4-.7 1 1 0 00-.3-.4v-.2a421687 421687 0 01-.8-62l.2-.6c0-.3 0-.6-.2-.9v-1.5l.1-.5v-.8l.2-.3c.3-.2.5-.5.6-1l.1-.4v-1.1-.3h.6l-.3-.4h-7.9-.2l-.2.4h.6V61.5l.1.4c0 .5.2.8.5 1l.3.3v.7l.1.6v1.4c-.2.4-.3 1-.1 1.4l.1.2v.3l-.7 61.7-.1.2-.2.3-.2.2a1 1 0 00-.3.7l-.1.4v1.4h9l-.1-.4z\"></path><path class=\"st2\" d=\"M104.4 41.5l45.1-18.6 46.6 18.6z\"></path></svg></b> </a>\n",
       "</div>\n",
       "<div class=\"header__mobile-share\">\n",
       "<a data-clipboard-text=\"https://www.whitehouse.gov/briefings-statements/the-inaugural-address/?utm_source=link&amp;utm_medium=header\" href=\"https://www.whitehouse.gov/briefings-statements/the-inaugural-address/?utm_source=link&amp;utm_medium=header\">\n",
       "<b class=\"svg svg--share-link\"><svg focusable=\"false\" height=\"15\" role=\"img\" width=\"17\" xmlns=\"http://www.w3.org/2000/svg\"><title>Copy URL to your clipboard</title><use href=\"#svg-4dd483c688c555a0e4c94d866f95f8f3\" xlink:href=\"#svg-4dd483c688c555a0e4c94d866f95f8f3\"></use></svg></b> Share\n",
       "\t\t\t\t\t\t</a>\n",
       "</div>\n",
       "<nav class=\"nav nav--primary header__nav\"><ul class=\"nav__menu nav__menu--depth0 menu\"><li class=\"nav__menu-item nav__menu-item--depth0 menu-item menu-item-type-post_type menu-item-object-issue menu-item-692\"><a class=\"nav__link\" href=\"https://www.whitehouse.gov/issues/economy-jobs/\">Economy</a></li>\n",
       "<li class=\"nav__menu-item nav__menu-item--depth0 menu-item menu-item-type-post_type menu-item-object-issue menu-item-693\"><a class=\"nav__link\" href=\"https://www.whitehouse.gov/issues/national-security-defense/\">National Security</a></li>\n",
       "<li class=\"nav__menu-item nav__menu-item--depth0 menu-item menu-item-type-post_type menu-item-object-issue menu-item-16229\"><a class=\"nav__link\" href=\"https://www.whitehouse.gov/issues/budget-spending/\">Budget</a></li>\n",
       "<li class=\"nav__menu-item nav__menu-item--depth0 menu-item menu-item-type-post_type menu-item-object-issue menu-item-16236\"><a class=\"nav__link\" href=\"https://www.whitehouse.gov/issues/immigration/\">Immigration</a></li>\n",
       "<li class=\"nav__menu-item nav__menu-item--depth0 menu-item menu-item-type-custom menu-item-object-custom menu-item-227001\"><a class=\"nav__link\" href=\"http://www.coronavirus.gov\">Coronavirus.gov</a></li>\n",
       "</ul></nav> </div>\n",
       "<a class=\"header__search\" href=\"https://www.whitehouse.gov/search/\">\n",
       "<span class=\"visually-hidden\">Search WhiteHouse.gov</span>\n",
       "<b class=\"svg svg--search\"><svg focusable=\"false\" height=\"20\" role=\"img\" viewbox=\"0 0 20 20\" width=\"20\" xmlns=\"http://www.w3.org/2000/svg\"><title>Open Search</title><path d=\"M20,18.7l-5.1-5.1c2.6-3.3,2.4-8.1-0.6-11.2C12.7,0.9,10.6,0,8.4,0C6.1,0,4,0.9,2.5,2.5 C0.9,4,0,6.1,0,8.4s0.9,4.3,2.5,5.9c1.6,1.6,3.7,2.5,5.9,2.5c1.9,0,3.8-0.7,5.3-1.8l5.1,5.1L20,18.7z M8.5,15 c-1.7,0-3.4-0.7-4.6-1.9C2.7,11.9,2,10.2,2,8.5s0.7-3.4,1.9-4.6C5.1,2.7,6.8,2,8.5,2c1.7,0,3.4,0.7,4.6,1.9c2.5,2.5,2.5,6.7,0,9.2 C11.9,14.3,10.2,15,8.5,15z\" fill=\"#A98860\"></path></svg></b> </a>\n",
       "</div>\n",
       "</div>\n",
       "</header>\n",
       "<main id=\"main-content\">\n",
       "<div class=\"page-header page-header--small-title\">\n",
       "<div class=\"page-header__wrap\">\n",
       "<p class=\"page-header__section\">\n",
       "\t\t\t\tRemarks\t\t\t</p>\n",
       "<h1 class=\"page-header__title\">The Inaugural Address</h1>\n",
       "<div class=\"meta meta--mobile-wrap\">\n",
       "<p class=\"meta__date\">\n",
       "<span class=\"meta__label\">Issued on:</span>\n",
       "<time>January 20, 2017</time>\n",
       "</p>\n",
       "</div>\n",
       "<span class=\"divider\"><hr/><hr/></span>\n",
       "</div>\n",
       "</div>\n",
       "<div class=\"page-content\">\n",
       "<div class=\"page-content__wrap\">\n",
       "<div class=\"page-content__content editor\">\n",
       "<aside class=\"editor__module editor__module--left editor__module--named editor__module-share\"><div class=\"share share--sidebar\">\n",
       "<div class=\"share__label\">\n",
       "<span class=\"share__label-static\">Share:</span>\n",
       "</div>\n",
       "<ul class=\"share__list\" role=\"menu\">\n",
       "<li class=\"share__item share__item--facebook\" role=\"menuitem\">\n",
       "<a aria-label=\"Share on Facebook\" class=\"share__link share__link--facebook\" href=\"https://www.facebook.com/dialog/share?app_id=1790466490985150&amp;display=popup&amp;quote=The%20Inaugural%20Address&amp;href=https%3A%2F%2Fwww.whitehouse.gov%2Fbriefings-statements%2Fthe-inaugural-address%2F%3Futm_source%3Dfacebook\" rel=\"noopener noreferrer\" target=\"_blank\">\n",
       "<b class=\"svg svg--share-facebook\"><svg focusable=\"false\" height=\"18\" role=\"img\" width=\"10\" xmlns=\"http://www.w3.org/2000/svg\"><title>Share on Facebook</title><use href=\"#svg-8c645b960ff3a8031691e9258940e50e\" xlink:href=\"#svg-8c645b960ff3a8031691e9258940e50e\"></use></svg></b> </a>\n",
       "</li>\n",
       "<li class=\"share__item share__item--twitter\" role=\"menuitem\">\n",
       "<a aria-label=\"Share on Twitter\" class=\"share__link share__link--twitter\" href=\"https://twitter.com/intent/tweet?url=https%3A%2F%2Fwww.whitehouse.gov%2Fbriefings-statements%2Fthe-inaugural-address%2F%3Futm_source%3Dtwitter&amp;text=The%20Inaugural%20Address&amp;via=whitehouse\" rel=\"noopener noreferrer\" target=\"_blank\">\n",
       "<b class=\"svg svg--share-twitter\"><svg focusable=\"false\" height=\"14\" role=\"img\" width=\"17\" xmlns=\"http://www.w3.org/2000/svg\"><title>Share on Twitter</title><use href=\"#svg-13e93fe2226e13b1a1ddb60695bf0e73\" xlink:href=\"#svg-13e93fe2226e13b1a1ddb60695bf0e73\"></use></svg></b> </a>\n",
       "</li>\n",
       "<li class=\"share__item share__item--copy\" role=\"menuitem\">\n",
       "<a aria-label=\"Copy URL to your clipboard\" class=\"share__link share__link--copy\" data-clipboard-text=\"https://www.whitehouse.gov/briefings-statements/the-inaugural-address/?utm_source=link\" href=\"https://www.whitehouse.gov/briefings-statements/the-inaugural-address/?utm_source=link\">\n",
       "<b class=\"svg svg--share-link\"><svg focusable=\"false\" height=\"15\" role=\"img\" width=\"17\" xmlns=\"http://www.w3.org/2000/svg\"><title>Copy URL to your clipboard</title><use href=\"#svg-4dd483c688c555a0e4c94d866f95f8f3\" xlink:href=\"#svg-4dd483c688c555a0e4c94d866f95f8f3\"></use></svg></b> </a>\n",
       "</li>\n",
       "</ul>\n",
       "</div>\n",
       "</aside>\n",
       "<aside class=\"editor__module editor__module--left editor__module--named editor__module-all\"><div class=\"sidebar-button\">\n",
       "<a class=\"sidebar-button__text\" href=\"https://www.whitehouse.gov/news/\">\n",
       "<b class=\"svg svg--all sidebar-button__icon\"><svg aria-hidden=\"true\" focusable=\"false\" height=\"18\" width=\"18\" xmlns=\"http://www.w3.org/2000/svg\"><use href=\"#svg-7de73667a66874b3c48632b196204440\" xlink:href=\"#svg-7de73667a66874b3c48632b196204440\"></use></svg></b>\t\tAll News\t</a>\n",
       "</div>\n",
       "</aside>\n",
       "<!-- The Content -->\n",
       "<aside class=\"editor__module editor__module--content\"><div class=\"module module_type_video\">\n",
       "<figure class=\"video video--content video--no-placeholder\">\n",
       "<div class=\"video__container\">\n",
       "<div class=\"video__embed\">\n",
       "<iframe allow=\"accelerometer; autoplay; clipboard-write; encrypted-media; gyroscope; picture-in-picture\" allowfullscreen=\"\" frameborder=\"0\" height=\"576\" src=\"https://www.youtube.com/embed/4GNWldTc8VU?feature=oembed&amp;enablejsapi=1&amp;modestbranding=1&amp;rel=0&amp;origin=https://www.whitehouse.gov\" title=\"The Inauguration of the 45th President of the United States\" width=\"1024\"></iframe> </div>\n",
       "<a class=\"video__link\" href=\"#\">\n",
       "<div class=\"video__overlay\"></div>\n",
       "<div class=\"video__play\">\n",
       "<div class=\"video__play-button-col\">\n",
       "<span class=\"video__button\"><span class=\"video__triangle\">Play</span></span>\n",
       "</div>\n",
       "<div class=\"video_play-text-col\">\n",
       "</div>\n",
       "</div>\n",
       "</a>\n",
       "</div>\n",
       "</figure>\n",
       "</div>\n",
       "</aside>\n",
       "<p style=\"text-align: center;\"><strong>REMARKS OF PRESIDENT DONALD J. TRUMP – AS PREPARED FOR DELIVERY</strong><br/>\n",
       "<strong>INAUGURAL ADDRESS</strong><br/>\n",
       "<strong>FRIDAY, JANUARY 20, 2017</strong><br/>\n",
       "<strong>WASHINGTON, D.C.</strong></p>\n",
       "<p style=\"text-align: left;\"><em>As Prepared for Delivery –</em></p>\n",
       "<p>Chief Justice Roberts, President Carter, President Clinton, President Bush, President Obama, fellow Americans, and people of the world: thank you.</p>\n",
       "<p>We, the citizens of America, are now joined in a great national effort to rebuild our country and to restore its promise for all of our people.</p>\n",
       "<p>Together, we will determine the course of America and the world for years to come.</p>\n",
       "<p>We will face challenges. We will confront hardships. But we will get the job done.</p>\n",
       "<p>Every four years, we gather on these steps to carry out the orderly and peaceful transfer of power, and we are grateful to President Obama and First Lady Michelle Obama for their gracious aid throughout this transition. They have been magnificent.</p>\n",
       "<p>Today’s ceremony, however, has very special meaning. Because today we are not merely transferring power from one Administration to another, or from one party to another – but we are transferring power from Washington, D.C. and giving it back to you, the American People.</p>\n",
       "<p>For too long, a small group in our nation’s Capital has reaped the rewards of government while the people have borne the cost.</p>\n",
       "<p>Washington flourished – but the people did not share in its wealth.</p>\n",
       "<p>Politicians prospered – but the jobs left, and the factories closed.</p>\n",
       "<p>The establishment protected itself, but not the citizens of our country.</p>\n",
       "<p>Their victories have not been your victories; their triumphs have not been your triumphs; and while they celebrated in our nation’s Capital, there was little to celebrate for struggling families all across our land.</p>\n",
       "<p>That all changes – starting right here, and right now, because this moment is your moment: it belongs to you.</p>\n",
       "<p>It belongs to everyone gathered here today and everyone watching all across America.</p>\n",
       "<p>This is your day. This is your celebration.</p>\n",
       "<p>And this, the United States of America, is your country.</p>\n",
       "<p>What truly matters is not which party controls our government, but whether our government is controlled by the people.</p>\n",
       "<p>January 20th 2017, will be remembered as the day the people became the rulers of this nation again.</p>\n",
       "<p>The forgotten men and women of our country will be forgotten no longer.</p>\n",
       "<p>Everyone is listening to you now.</p>\n",
       "<p>You came by the tens of millions to become part of a historic movement the likes of which the world has never seen before.</p>\n",
       "<p>At the center of this movement is a crucial conviction: that a nation exists to serve its citizens.</p>\n",
       "<p>Americans want great schools for their children, safe neighborhoods for their families, and good jobs for themselves.</p>\n",
       "<p>These are the just and reasonable demands of a righteous public.</p>\n",
       "<p>But for too many of our citizens, a different reality exists: Mothers and children trapped in poverty in our inner cities; rusted-out factories scattered like tombstones across the landscape of our nation; an education system, flush with cash, but which leaves our young and beautiful students deprived of knowledge; and the crime and gangs and drugs that have stolen too many lives and robbed our country of so much unrealized potential.</p>\n",
       "<p>This American carnage stops right here and stops right now.</p>\n",
       "<p>We are one nation – and their pain is our pain. Their dreams are our dreams; and their success will be our success. We share one heart, one home, and one glorious destiny.</p>\n",
       "<p>The oath of office I take today is an oath of allegiance to all Americans.</p>\n",
       "<p>For many decades, we’ve enriched foreign industry at the expense of American industry;</p>\n",
       "<p>Subsidized the armies of other countries while allowing for the very sad depletion of our military;</p>\n",
       "<p>We’ve defended other nation’s borders while refusing to defend our own;</p>\n",
       "<p>And spent trillions of dollars overseas while America’s infrastructure has fallen into disrepair and decay.</p>\n",
       "<p>We’ve made other countries rich while the wealth, strength, and confidence of our country has disappeared over the horizon.</p>\n",
       "<p>One by one, the factories shuttered and left our shores, with not even a thought about the millions upon millions of American workers left behind.</p>\n",
       "<p>The wealth of our middle class has been ripped from their homes and then redistributed across the entire world.</p>\n",
       "<p>But that is the past. And now we are looking only to the future.</p>\n",
       "<p>We assembled here today are issuing a new decree to be heard in every city, in every foreign capital, and in every hall of power.</p>\n",
       "<p>From this day forward, a new vision will govern our land.</p>\n",
       "<p>From this moment on, it’s going to be America First.</p>\n",
       "<p>Every decision on trade, on taxes, on immigration, on foreign affairs, will be made to benefit American workers and American families.</p>\n",
       "<p>We must protect our borders from the ravages of other countries making our products, stealing our companies, and destroying our jobs. Protection will lead to great prosperity and strength.</p>\n",
       "<p>I will fight for you with every breath in my body – and I will never, ever let you down.</p>\n",
       "<p>America will start winning again, winning like never before.</p>\n",
       "<p>We will bring back our jobs. We will bring back our borders. We will bring back our wealth. And we will bring back our dreams.</p>\n",
       "<p>We will build new roads, and highways, and bridges, and airports, and tunnels, and railways all across our wonderful nation.</p>\n",
       "<p>We will get our people off of welfare and back to work – rebuilding our country with American hands and American labor.</p>\n",
       "<p>We will follow two simple rules: Buy American and Hire American.</p>\n",
       "<p>We will seek friendship and goodwill with the nations of the world – but we do so with the understanding that it is the right of all nations to put their own interests first.</p>\n",
       "<p>We do not seek to impose our way of life on anyone, but rather to let it shine as an example for everyone to follow.</p>\n",
       "<p>We will reinforce old alliances and form new ones – and unite the civilized world against Radical Islamic Terrorism, which we will eradicate completely from the face of the Earth.</p>\n",
       "<p>At the bedrock of our politics will be a total allegiance to the United States of America, and through our loyalty to our country, we will rediscover our loyalty to each other.</p>\n",
       "<p>When you open your heart to patriotism, there is no room for prejudice.</p>\n",
       "<p>The Bible tells us, “how good and pleasant it is when God’s people live together in unity.”</p>\n",
       "<p>We must speak our minds openly, debate our disagreements honestly, but always pursue solidarity.</p>\n",
       "<p>When America is united, America is totally unstoppable.</p>\n",
       "<p>There should be no fear – we are protected, and we will always be protected.</p>\n",
       "<p>We will be protected by the great men and women of our military and law enforcement and, most importantly, we are protected by God.</p>\n",
       "<p>Finally, we must think big and dream even bigger.</p>\n",
       "<p>In America, we understand that a nation is only living as long as it is striving.</p>\n",
       "<p>We will no longer accept politicians who are all talk and no action – constantly complaining but never doing anything about it.</p>\n",
       "<p>The time for empty talk is over.</p>\n",
       "<p>Now arrives the hour of action.</p>\n",
       "<p>Do not let anyone tell you it cannot be done. No challenge can match the heart and fight and spirit of America.</p>\n",
       "<p>We will not fail. Our country will thrive and prosper again.</p>\n",
       "<p>We stand at the birth of a new millennium, ready to unlock the mysteries of space, to free the Earth from the miseries of disease, and to harness the energies, industries and technologies of tomorrow.</p>\n",
       "<p>A new national pride will stir our souls, lift our sights, and heal our divisions.</p>\n",
       "<p>It is time to remember that old wisdom our soldiers will never forget: that whether we are black or brown or white, we all bleed the same red blood of patriots, we all enjoy the same glorious freedoms, and we all salute the same great American Flag.</p>\n",
       "<p>And whether a child is born in the urban sprawl of Detroit or the windswept plains of Nebraska, they look up at the same night sky, they fill their heart with the same dreams, and they are infused with the breath of life by the same almighty Creator.</p>\n",
       "<p>So to all Americans, in every city near and far, small and large, from mountain to mountain, and from ocean to ocean, hear these words:</p>\n",
       "<p>You will never be ignored again.</p>\n",
       "<p>Your voice, your hopes, and your dreams, will define our American destiny. And your courage and goodness and love will forever guide us along the way.</p>\n",
       "<p>Together, We Will Make America Strong Again.</p>\n",
       "<p>We Will Make America Wealthy Again.</p>\n",
       "<p>We Will Make America Proud Again.</p>\n",
       "<p>We Will Make America Safe Again.</p>\n",
       "<p>And, Yes, Together, We Will Make America Great Again. Thank you, God Bless You, And God Bless America.</p>\n",
       "</div>\n",
       "</div>\n",
       "</div>\n",
       "</main><!-- end main -->\n",
       "<footer class=\"footer\">\n",
       "<div class=\"footer__wrap\">\n",
       "<div class=\"footer__logo\">\n",
       "<a href=\"https://www.whitehouse.gov\">\n",
       "<span class=\"visually-hidden\">WhiteHouse.gov</span>\n",
       "<b class=\"svg svg--logo\"><svg focusable=\"false\" height=\"35\" role=\"img\" viewbox=\"0 0 300 140\" width=\"75\" xmlns=\"http://www.w3.org/2000/svg\"><title>WhiteHouse.gov</title><style>.st0{fill:#fff}.st1{fill:#cbcbca}.st2,.st3{fill:#d9dce1}</style><path class=\"st0\" d=\"M149.8 93.2V59.6h-39l39 33.6zM145 70.7h4.4v6.7H145v-6.7zm4.4 7.8v6.8H145v-6.8h4.4zm.9-18.9v33.6l39-33.6h-39zm4.9 25.7h-4.4v-6.7h4.4v6.7zm-4.4-7.9v-6.7h4.4v6.7h-4.4z\"></path><path class=\"st0\" d=\"M189.6 59.6l-39.4 34 2.4 3h-5.2l2.4-3-39.5-34H2.7v73h141.6v-27.2h5.2v27.3h1v-27.3h5.2v27.3h141.6v-73H189.6zM109 70.7h4.4v6.7H109v-6.7zm-25.8 0h4.4v6.7h-4.4v-6.7zm0 7.8h4.4v6.8h-4.4v-6.8zm-5.8-7.8h4.4v6.7h-4.3v-6.7zm0 7.8h4.4v6.8h-4.3v-6.8zm-22-7.8h4.4v6.7h-4.3v-6.7zm-16.2 0h4.3v6.7h-4.3v-6.7zm0 7.8h4.3v6.8h-4.3v-6.8zm-5.8-7.8h4.4v6.7h-4.3v-6.7zm0 7.8h4.4v6.8h-4.3v-6.8zm-22-7.8h4.4v6.7h-4.4v-6.7zm0 7.8h4.4v6.8h-4.4v-6.8zm4.6 46h-4.3v-8.1H16v8zm0-9.2h-4.3v-8H16v8zm0-9.3h-4.3v-8H16v8zm-3.5-12.6h-.7c0-1.5 2.2-3.4 4.7-3.4s4.7 1.9 4.7 3.4h-.7c0-1.3-1.7-2.2-4-2.2s-4 .9-4 2.2zm8.8 31H17v-8h4.4v8zm0-9.1H17v-8h4.4v8zm0-9.3H17v-8h4.4v8zm.2-20.7h-4.3v-6.7h4.3v6.7zm0-7.9h-4.3v-6.7h4.3v6.7zm16.5 47h-4.3v-8H38v8zm0-9.1h-4.3v-8H38v8zm0-9.3h-4.3v-8H38v8zm5.3 18.4H39v-8h4.3v8zm0-9.1H39v-8h4.3v8zm0-9.3H39v-8h4.3v8zM43 93.4l-4.4-2-4.4 2h-1.3l5.7-3.4 5.7 3.4H43zm12.6-14.9h4.3v6.8h-4.3v-6.8zm4.5 46h-4.3v-8.1H60v8zm0-9.2h-4.3v-8H60v8zm0-9.3h-4.3v-8H60v8zm-3.5-12.6h-.7c0-1.5 2.2-3.4 4.7-3.4s4.7 1.9 4.7 3.4h-.7c0-1.3-1.7-2.2-4-2.2s-4 .9-4 2.2zm8.8 31H61v-8h4.4v8zm0-9.1H61v-8h4.4v8zm0-9.3H61v-8h4.4v8zm.2-20.7h-4.3v-6.7h4.3v6.7zm0-7.9h-4.3v-6.7h4.3v6.7zm16.5 47h-4.3v-8H82v8zm0-9.1h-4.3v-8H82v8zm0-9.3h-4.3v-8H82v8zm5.3 18.4H83v-8h4.3v8zm0-9.1H83v-8h4.3v8zm0-9.3H83v-8h4.3v8zM87 93.4l-4.4-2-4.4 2h-1.3l5.7-3.4 5.7 3.4H87zm22-14.9h4.4v6.8H109v-6.8zm4.7 46h-4.4v-8.1h4.4v8zm0-9.2h-4.4v-8h4.4v8zm0-9.3h-4.4v-8h4.4v8zM110 93.5h-.8c0-1.6 2.2-3.5 4.7-3.5 2.6 0 4.8 2 4.8 3.4h-.8c0-1.3-1.7-2.2-4-2.2s-4 .9-4 2.3zm8.8 31h-4.4v-8.1h4.4v8zm0-9.2h-4.4v-8h4.4v8zm0-9.3h-4.4v-8h4.4v8zm.2-20.7h-4.4v-6.7h4.4v6.7zm0-7.9h-4.4v-6.7h4.4v6.7zm30.6 23.9h-2.3v-4.4h2.3v4.4zm2.9 0h-2.3v-4.4h2.3v4.4zm123.7-30.6h4.4v6.7h-4.4v-6.7zm-16.2 0h4.4v6.7h-4.4v-6.7zm0 7.8h4.4v6.8h-4.4v-6.8zm-5.7-7.8h4.4v6.7h-4.4v-6.7zm0 7.8h4.4v6.8h-4.4v-6.8zm-22-7.8h4.4v6.7h-4.3v-6.7zm-16.1 0h4.3v6.7h-4.3v-6.7zm0 7.8h4.3v6.8h-4.3v-6.8zm-5.8-7.8h4.4v6.7h-4.4v-6.7zm0 7.8h4.4v6.8h-4.4v-6.8zm-32-7.8h4.5v6.7h-4.4v-6.7zm0 7.8h4.5v6.8h-4.4v-6.8zm4.7 46h-4.4v-8.1h4.4v8zm0-9.2h-4.4v-8h4.4v8zm0-9.3h-4.4v-8h4.4v8zm-3.5-12.5h-.8c0-1.6 2.2-3.5 4.7-3.5 2.6 0 4.8 2 4.8 3.4h-.8c0-1.3-1.7-2.2-4-2.2s-4 .9-4 2.3zm8.8 31H184v-8.1h4.4v8zm0-9.2H184v-8h4.4v8zm0-9.3H184v-8h4.4v8zm.2-20.7h-4.4v-6.7h4.4v6.7zm0-7.9h-4.4v-6.7h4.4v6.7zm26.4 47h-4.3v-8h4.3v8zm0-9.1h-4.3v-8h4.3v8zm0-9.3h-4.3v-8h4.3v8zm5.3 18.4H216v-8h4.4v8zm0-9.1H216v-8h4.4v8zm0-9.3H216v-8h4.4v8zm-.4-12.6l-4.4-2-4.4 2h-1.3l5.7-3.4 5.7 3.4H220zm12.5-14.9h4.3v6.8h-4.3v-6.8zm4.6 46h-4.4v-8.1h4.4v8zm0-9.2h-4.4v-8h4.4v8zm0-9.3h-4.4v-8h4.4v8zm-3.6-12.5h-.7c0-1.6 2.2-3.5 4.7-3.5 2.6 0 4.7 1.9 4.7 3.5h-.7c0-1.4-1.7-2.3-4-2.3s-4 .9-4 2.3zm8.8 31H238v-8.1h4.3v8zm0-9.2H238v-8h4.3v8zm0-9.3H238v-8h4.3v8zm.3-20.7h-4.4v-6.7h4.4v6.7zm0-7.9h-4.4v-6.7h4.4v6.7zm16.4 47h-4.4v-8h4.4v8zm0-9.1h-4.4v-8h4.4v8zm0-9.3h-4.4v-8h4.4v8zm5.3 18.4h-4.4v-8h4.4v8zm0-9.1h-4.4v-8h4.4v8zm0-9.3h-4.4v-8h4.4v8zm-.5-12.6l-4.4-2-4.3 2h-1.4l5.8-3.4 5.7 3.4h-1.4zm12.5-14.9h4.4v6.8h-4.4v-6.8zm4.6 46h-4.3v-8.1h4.3v8zm0-9.2h-4.3v-8h4.3v8zm0-9.3h-4.3v-8h4.3v8zm-3.5-12.6h-.7c0-1.5 2.2-3.4 4.7-3.4s4.7 1.9 4.7 3.4h-.7c0-1.3-1.7-2.2-4-2.2s-4 .9-4 2.2zm8.8 31h-4.4v-8h4.4v8zm0-9.1h-4.4v-8h4.4v8zm0-9.3h-4.4v-8h4.4v8zm.2-20.7h-4.3v-6.7h4.3v6.7zm0-7.9h-4.3v-6.7h4.3v6.7zM0 48.2v1.3h2.7v8.1h294.7v-8H300v-1.4H0zm5.4 6.5h-1v-5.4h1v5.4zm1.8 0h-1v-5.4h1v5.4zm1.8 0H8v-5.4h1v5.4zm1.7 0h-1v-5.4h1v5.4zm1.8 0h-1v-5.4h1v5.4zm1.8 0h-1v-5.4h1v5.4zm1.8 0h-1v-5.4h1v5.4zm1.7 0h-1v-5.4h1v5.4zm1.8 0h-1v-5.4h1v5.4zm6.9 0h-1v-5.4h1v5.4zm1.8 0h-1v-5.4h1v5.4zm1.7 0h-1v-5.4h1v5.4zm1.8 0h-1v-5.4h1v5.4zm1.8 0h-1v-5.4h1v5.4zm1.8 0h-1v-5.4h1v5.4zm1.7 0h-1v-5.4h1v5.4zm1.8 0h-1v-5.4h1v5.4zm1.8 0h-1v-5.4h1v5.4zm6.9 0h-1v-5.4h1v5.4zm1.7 0h-1v-5.4h1v5.4zm1.8 0h-1v-5.4h1v5.4zm1.8 0h-1v-5.4h1v5.4zm1.8 0h-1v-5.4h1v5.4zm1.7 0h-1v-5.4h1v5.4zm1.8 0h-1v-5.4h1v5.4zm1.8 0h-1v-5.4h1v5.4zm1.8 0h-1v-5.4h1v5.4zm6.8 0h-1v-5.4h1v5.4zm1.8 0h-1v-5.4h1v5.4zm1.8 0h-1v-5.4h1v5.4zm1.8 0h-1v-5.4h1v5.4zm1.7 0h-1v-5.4h1v5.4zm1.8 0h-1v-5.4h1v5.4zm1.8 0h-1v-5.4h1v5.4zm1.8 0h-1v-5.4h1v5.4zm1.7 0h-1v-5.4h1v5.4zm135.3 0h-1v-5.4h1v5.4zm1.8 0h-1v-5.4h1v5.4zm1.8 0h-1v-5.4h1v5.4zm1.8 0h-1v-5.4h1v5.4zm1.7 0h-1v-5.4h1v5.4zm1.8 0h-1v-5.4h1v5.4zm1.8 0h-1v-5.4h1v5.4zm1.7 0h-1v-5.4h1v5.4zm1.8 0h-1v-5.4h1v5.4zm7 0h-1v-5.4h1v5.4zm1.7 0h-1v-5.4h1v5.4zm1.8 0h-1v-5.4h1v5.4zm1.7 0h-1v-5.4h1v5.4zm1.8 0h-1v-5.4h1v5.4zm1.8 0h-1v-5.4h1v5.4zm1.8 0h-1v-5.4h1v5.4zm1.7 0h-1v-5.4h1v5.4zm1.8 0h-1v-5.4h1v5.4zm6.9 0h-1v-5.4h1v5.4zm1.8 0h-1v-5.4h1v5.4zm1.7 0h-1v-5.4h1v5.4zm1.8 0h-1v-5.4h1v5.4zm1.8 0h-1v-5.4h1v5.4zm1.8 0h-1v-5.4h1v5.4zm1.7 0h-1v-5.4h1v5.4zm1.8 0h-1v-5.4h1v5.4zm1.8 0h-1v-5.4h1v5.4zm6.9 0h-1v-5.4h1v5.4zm1.7 0h-1v-5.4h1v5.4zm1.8 0h-1v-5.4h1v5.4zm1.8 0h-1v-5.4h1v5.4zm1.8 0h-1v-5.4h1v5.4zm1.7 0h-1v-5.4h1v5.4zm1.8 0h-1v-5.4h1v5.4zm1.8 0h-1v-5.4h1v5.4zm1.8 0h-1v-5.4h1v5.4zM150.3 15.6V9.8c-.2 0-.4.3-.6.5v-.1 5.4h.6z\"></path><path class=\"st0\" d=\"M149.7 7.7V7c5.5-3.4 10.9 3.4 16.3 0v.7c-5.4 3.4-10.8-3.5-16.3 0zM166 9v-.7c-5.4 3.4-10.8-3.4-16.3 0V9c5.5-3.4 10.9 3.4 16.3 0zm-15.2.8c5.1-2 10.1 3.7 15.2.5v-.7c-5.4 3.5-10.8-3.4-16.3 0v.7l1.2-.6zm1.2-6v-.1l-.1.1-.2.1h.2l-.1.3.1-.2.2.1V4v-.1h-.1zm0-1V3h-.3.2v.2h.2V3h-.1v-.2zm.9 1.2H153.2V4v-.2h-.1v-.1l-.1.1h-.2l.1.1V4zm-.9.8v-.2.2h-.3.2V5l.2.1V5l.1-.2h-.2zm-.6-3.3v.2h-.2l.1.2V2l.1-.1h.2v-.1-.2h-.1zm1.2 3.6V5h-.1v.1h-.2l.1.2v.1h.2v-.2h0zm0-2l-.2.2h-.1l.1.2v.1h.2v-.2h0V3zm.5 1.7l.1.1v-.1-.1h-.1v-.2l-.1.2h-.2.1V5h.2zm-.6-.8v.2h-.2l.1.1v.2h.2v-.1l.1-.2h-.1V4zm0-2.7v.2h-.2l.1.1v.2l.1-.1h.1v-.1l.1-.1h-.2v-.2zm0 1v.1h-.2l.1.1v.2l.1-.1.2.1-.1-.2h.1v-.1h-.1v-.2zm-1 .2l-.1.2h-.2.1V3l.1-.2h.2v-.2h-.1v-.1zm.5-.6V2h-.3.2V2.3l.2.1v-.2l.1-.1h-.2V2zm-1.7 1.9V4h-.2l.1.1v.2l.1-.2h.2v-.3l-.1.1v-.1zm0 .9v.2h-.2l.1.1v.2l.1-.2h.2v-.3l-.1.1v-.1zm0-1.8V3h-.2l.2.1-.1.2.1-.2h.2V3h-.1V3zm0-1v.3h-.2.1v.3l.1-.2h.2v-.1V2h-.1zm5.3.2l.1-.1.2.1V2h-.1v-.3l-.1.2h-.2.1v.3zm-5.2 3.6v-.1.1l-.1.1-.2.1h.1v.2l.1-.1h.2v-.2-.1zm1-2.3v.2h-.2.1V4l.1-.2h.2v-.2h-.1v-.1zM151 5V5 5h-.3l.2.1v.1h.2v-.2l.1-.1h-.2zm.5-.7v.2h-.2.1v.2H151.6v-.1-.2h-.1v-.1zm-.5-2.1v.2h-.3l.2.1v0h.2l.1-.2h-.2v-.1zm.6 3.1v-.1l-.1.1-.2.1h.1v.3l.1-.2.2.1v-.2-.1h-.1zm-.6-2.2v.2h-.3l.2.1v0h.1l.1.1v-.2l.1-.1h-.2v-.1zm0 1V4v.2h-.3l.2.1v0h.2l.1-.2h-.2zm2.6.3l.2.1v-.1l.1-.2h-.2V4v.2h-.3l.2.1zm1.6-.2H155.4l-.1-.1h.1l-.1-.1-.1-.2v.1h-.3l.2.1v.2zm0 1l.1-.2.2.2-.1-.2h.1l-.1-.1-.1-.2v.2h-.3.2v.2zm0-2v.1h.2v-.1h.1l-.2-.1v-.2.1h-.3l.2.1v.2zm0-.8H155.4l-.1-.1.1-.1h-.1l-.1-.2V2h-.3l.2.1v.2zm-.5.2v.1l.2.1v-.2h-.1v-.3l-.1.2h-.2l.2.1zm0 1l.2.1v-.1l.1-.1h-.2v-.2l-.1.1h-.2l.1.1v.2zm0-1.8l.2.1v-.2h-.1v-.3l-.1.2h-.2l.1.1v.2zm1 4l.1-.2.2.2v-.2l-.1-.1v-.1-.1h-.1v.1h-.2l.1.1v.2zM152.9 3h.2v-.2h0v-.2l-.1.1h-.2l.1.1v.2zm2.7 1.6v.1H155.9v-.1l-.1-.1v-.2l-.1.1h-.2l.1.1v.1zm0-.8H155.9v-.1l-.1-.1v-.2l-.1.1h-.2l.1.1V4zm0-1h.1l.2.2v-.2-.1h-.1v-.2l-.1.1h-.2l.2.1zm-2.1-.4v.1h.2v-.1h.1v-.1h-.2v-.2.2h-.3l.2.1zm0 1l.2.1v-.2h.1l-.2-.1v-.2.2h-.3l.2.1v.2zm0-1.8h.2v-.1l.1-.1h-.2v-.2.2h-.3.2v.3zm0 3.7v-.1l.2.1v-.2h-.1V5v.1h-.3l.2.1v.2zm-.6-3.2H153.2V2h-.1v-.3l-.1.2h-.2l.1.1v.2zm1.6 3.3H154.8v-.1l.1-.1h-.2v-.1V5l-.1.1h-.2l.1.1v.2zM154 5l.1-.1.2.1v-.2l-.1-.1v-.2l-.1.2h-.2l.1.1V5zm.5-.5h.1l.2.1v-.2h-.1V4l-.1.2h-.2l.1.1zm-.5-2.3H154.3v-.1V2h-.1v-.2l-.1.2h-.2.1v.3zm0 .9h.1l.2.1V3l-.1-.1v-.2l-.1.2h-.2l.1.1v.1zm0 1l.1-.1h.2V4l-.1-.1v-.2l-.1.2h-.2.1v.3zm2.2 1.8c3.3.9 6.5 2.5 9.8.5v-.7c-3.3 2-6.5.4-9.8-.5v-.7c3.3 1 6.6 2.6 9.8.5v-.6c-3.3 2-6.5.4-9.8-.5v-.7c3.3 1 6.6 2.6 9.8.5v-.6c-3.3 2-6.5.4-9.8-.5v-.7c3.3 1 6.6 2.6 9.8.5v-.7c-3.3 2-6.5.4-9.8-.5V6zm-6.4-4.6V7 1.3zm6.5 0l-.5-.1a19.6 19.6 0 00-6 .1v.2c.9-.3 2.3-.4 3.8-.4l2.2.2.6.1v-.1zm-71 45l-1-2.9 9.3-3.8V28.7l24.3-.2L150 15l31.6 13.5 24.8.3-.1 10.8 9.4 3.9-1 2.9H85.3zM0 134.7h300v5.4H0z\"></path><path class=\"st1\" d=\"M192 66h-86l-10.8-6.4h109.3z\" opacity=\".1\"></path><path class=\"st3\" d=\"M137 132.3h-.2v-1c0-.2 0-.3-.2-.5a1 1 0 00-.3-.7h-.1a1 1 0 00-.2-.4l-.1-.2a421687 421687 0 01-.8-62l.2-.6c0-.3 0-.6-.2-.9v-1.5c.1-.2.2-.3.1-.5v-.8c.2 0 .2-.2.3-.3.3-.2.5-.5.5-1l.1-.4v-1.1-.3h.7l-.4-.4h-7.9-.2l-.1.4h.6V62c0 .5.3.8.6 1l.2.3v.7l.1.6.1 1.4c-.3.4-.4 1-.2 1.4l.1.2.1.3-.8 61.7-.1.2-.2.3-.1.2a1 1 0 00-.3.7l-.2.4v1.4h9v-.4zm34 0h-.3v-1c0-.2 0-.3-.2-.5a1 1 0 00-.3-.7 1 1 0 00-.3-.4l-.1-.2a421687 421687 0 01-.7-62l.2-.6c0-.3 0-.6-.2-.9h-.1v-1.5l.2-.5v-.8l.2-.3c.3-.2.5-.5.5-1l.2-.4v-1.1-.3h.6l-.3-.4h-8-.2l-.1.4h.6V62c.1.5.3.8.6 1l.2.3v.7c0 .3 0 .4.2.6v1.4c-.3.4-.3 1-.2 1.4l.2.2v.3l-.8 61.7v.2c-.2 0-.2.2-.3.3v.2a1 1 0 00-.4.7l-.2.4v1.4h9v-.4zm-68.9 0h-.2v-1l-.2-.5a1 1 0 00-.4-.7 1 1 0 00-.2-.4l-.1-.2a421687 421687 0 01-.8-62l.2-.6c0-.3 0-.6-.2-.9v-1.5c.1-.2.2-.3.1-.5v-.8c.2 0 .2-.2.3-.3.3-.2.5-.5.5-1l.1-.4v-1.1-.3h.7l-.4-.4h-7.9-.2l-.1.4h.6V62c0 .5.3.8.6 1l.2.3v.7l.1.6v1.4c-.2.4-.3 1 0 1.4v.2l.1.3-.8 61.7-.1.2-.2.3-.1.2a1 1 0 00-.3.7l-.2.4v1.4h9l-.1-.4zm101.8 0h-.3v-1l-.1-.5a1 1 0 00-.4-.7 1 1 0 00-.3-.4v-.2a421687 421687 0 01-.8-62l.2-.6c0-.3 0-.6-.2-.9v-1.5l.1-.5v-.8l.2-.3c.3-.2.5-.5.6-1l.1-.4v-1.1-.3h.6l-.3-.4h-7.9-.2l-.2.4h.6V61.5l.1.4c0 .5.2.8.5 1l.3.3v.7l.1.6v1.4c-.2.4-.3 1-.1 1.4l.1.2v.3l-.7 61.7-.1.2-.2.3-.2.2a1 1 0 00-.3.7l-.1.4v1.4h9l-.1-.4z\"></path><path class=\"st2\" d=\"M104.4 41.5l45.1-18.6 46.6 18.6z\"></path></svg></b> </a>\n",
       "</div>\n",
       "<div class=\"footer__site-title\">The White House</div>\n",
       "<span class=\"footer__divider divider\"><hr/><hr/></span>\n",
       "<div class=\"footer__nav\">\n",
       "<nav class=\"nav nav--footer\"><ul class=\"nav__menu nav__menu--depth0 menu\"><li class=\"nav__menu-item nav__menu-item--depth0 menu-item menu-item-type-post_type menu-item-object-page menu-item-17230\"><a class=\"nav__link\" href=\"https://www.whitehouse.gov/live/\">Live</a></li>\n",
       "<li class=\"nav__menu-item nav__menu-item--depth0 menu-item menu-item-type-custom menu-item-object-custom menu-item-8288\"><a class=\"nav__link\" href=\"https://apply.whitehouse.gov/\">Jobs</a></li>\n",
       "<li class=\"nav__menu-item nav__menu-item--depth0 menu-item menu-item-type-post_type menu-item-object-page menu-item-8093\"><a class=\"nav__link\" href=\"https://www.whitehouse.gov/get-involved/\">Get Involved</a></li>\n",
       "<li class=\"nav__menu-item nav__menu-item--depth0 menu-item menu-item-type-post_type menu-item-object-page menu-item-8092\"><a class=\"nav__link\" href=\"https://www.whitehouse.gov/copyright/\">Copyright Policy</a></li>\n",
       "<li class=\"nav__menu-item nav__menu-item--depth0 menu-item menu-item-type-post_type menu-item-object-page menu-item-privacy-policy menu-item-8095\"><a class=\"nav__link\" href=\"https://www.whitehouse.gov/privacy-policy/\">Privacy Policy</a></li>\n",
       "</ul></nav> </div>\n",
       "</div>\n",
       "<div class=\"footer__social\">\n",
       "<nav class=\"nav nav--social-links-menu\"><ul class=\"nav__menu nav__menu--depth0 menu\"><li class=\"nav__menu-item nav__menu-item--depth0 footer__social-link__twitter menu-item menu-item-type-custom menu-item-object-custom menu-item-21\"><a class=\"nav__link\" href=\"https://twitter.com/whitehouse\" rel=\"noopener noreferrer\" target=\"_blank\"><span>Twitter</span></a></li>\n",
       "<li class=\"nav__menu-item nav__menu-item--depth0 footer__social-link__facebook menu-item menu-item-type-custom menu-item-object-custom menu-item-20\"><a class=\"nav__link\" href=\"https://www.facebook.com/WhiteHouse/\" rel=\"noopener noreferrer\" target=\"_blank\"><span>Facebook</span></a></li>\n",
       "<li class=\"nav__menu-item nav__menu-item--depth0 footer__social-link__instagram menu-item menu-item-type-custom menu-item-object-custom menu-item-22\"><a class=\"nav__link\" href=\"https://www.instagram.com/whitehouse/\" rel=\"noopener noreferrer\" target=\"_blank\"><span>Instagram</span></a></li>\n",
       "<li class=\"nav__menu-item nav__menu-item--depth0 footer__social-link__email menu-item menu-item-type-custom menu-item-object-custom menu-item-23\"><a class=\"nav__link\" href=\"https://www.whitehouse.gov/contact/\"><span>Contact</span></a></li>\n",
       "</ul></nav> </div>\n",
       "</footer>\n",
       "</div><!-- end .body-overflow -->\n",
       "<section id=\"wp-footer\">\n",
       "<svg aria-hidden=\"true\" focusable=\"false\" style=\"display: block; width: 0; height: 0;\" xmlns=\"http://www.w3.org/2000/svg\"><symbol height=\"15\" id=\"svg-4dd483c688c555a0e4c94d866f95f8f3\" width=\"17\"><path d=\"M3.96 9.65c.85.8 2 1.22 3.2 1.22 1.2 0 2.35-.43 3.2-1.22l.94-.88c.35-.33.35-.85 0-1.2-.36-.32-.92-.32-1.28 0l-.94.9c-.5.47-1.2.74-1.92.74-.74 0-1.4-.26-1.93-.74L2.66 6.08c-1.07-1-1.07-2.6 0-3.6 1.08-.98 2.8-.98 3.85 0l.84.77c.35.33.9.33 1.27 0s.37-.85 0-1.2L7.8 1.3c-1.76-1.65-4.63-1.65-6.4 0-1.74 1.64-1.74 4.3 0 5.93l2.58 2.42zM5.7 6.25c-.35.33-.35.85 0 1.2.36.32.92.32 1.28 0l.94-.9c.5-.47 1.2-.74 1.92-.74s1.4.28 1.93.76l2.57 2.4c1.07 1 1.07 2.6 0 3.6-1.08 1-2.8 1-3.87 0l-.83-.77c-.36-.34-.92-.34-1.27 0-.36.32-.36.85 0 1.18l.82.77c.87.8 2.03 1.23 3.2 1.23 1.16 0 2.3-.42 3.2-1.23 1.76-1.65 1.76-4.3 0-5.96l-2.56-2.45c-.85-.8-2-1.22-3.2-1.22-1.2 0-2.35.43-3.2 1.22l-.94.9z\" xmlns=\"http://www.w3.org/2000/svg\"></path></symbol><symbol height=\"18\" id=\"svg-8c645b960ff3a8031691e9258940e50e\" width=\"10\"><path d=\"M2.86 6.56V4.94c0-.6.1-1.15.3-1.68.2-.52.5-.97.84-1.35.36-.37.77-.67 1.25-.9.47-.22.98-.33 1.52-.33H9.4v3.2H6.76c-.15 0-.3.1-.44.3-.13.2-.2.43-.2.7v1.7H9.4V9.8H6.12v7.92H2.86V9.82H.24V6.56h2.62z\" xmlns=\"http://www.w3.org/2000/svg\"></path></symbol><symbol height=\"14\" id=\"svg-13e93fe2226e13b1a1ddb60695bf0e73\" width=\"17\"><path d=\"M16.75 2.13c-.44.65-1 1.24-1.67 1.76v.38c0 1.1-.2 2.24-.63 3.4-.42 1.13-1.03 2.16-1.84 3.08-.8.93-1.8 1.67-2.98 2.25-1.18.6-2.54.88-4.08.88-.95 0-1.86-.14-2.72-.4-.87-.28-1.68-.66-2.44-1.14.13.02.26.03.4.03h.4c1.6 0 3-.48 4.16-1.42-.74-.02-1.4-.25-1.96-.7-.57-.42-.96-.98-1.16-1.65.22.06.43.1.6.1.18 0 .33-.02.47-.04.13-.02.28-.05.42-.1-.78-.15-1.42-.54-1.94-1.14-.5-.6-.76-1.32-.76-2.14v-.03c.22.12.46.2.7.28.26.08.54.1.86.1-.48-.28-.86-.67-1.12-1.16-.26-.48-.4-1.02-.4-1.62 0-.6.16-1.16.46-1.7.84 1.04 1.85 1.88 3.04 2.5 1.2.62 2.48.96 3.88 1.02-.06-.23-.08-.47-.08-.73 0-.46.08-.9.26-1.32.18-.42.42-.78.73-1.1.3-.3.66-.54 1.06-.72.4-.17.84-.26 1.3-.26.5 0 .96.1 1.37.3.4.2.77.44 1.1.76.36-.06.73-.16 1.1-.3.38-.16.72-.3 1.04-.48-.3.78-.78 1.4-1.47 1.84.35-.04.7-.1 1-.2.32-.1.63-.2.92-.33z\" xmlns=\"http://www.w3.org/2000/svg\"></path></symbol><symbol height=\"18\" id=\"svg-7de73667a66874b3c48632b196204440\" width=\"18\"><path d=\"M0,4V0h4v4H0z M7,4V0h4v4H7z M14,4V0h4v4H14z M0,11V7h4v4H0z M7,11V7h4v4H7z M14,11V7h4v4H14z M0,18v-4h4v4 H0z M7,18v-4h4v4H7z M14,18v-4h4v4H14z\" fill=\"#A98860\" xmlns=\"http://www.w3.org/2000/svg\"></path></symbol></svg>\n",
       "<script id=\"jquery-js\" src=\"https://www.whitehouse.gov/wp-content/themes/whitehouse/assets/vendor/jquery/dist/jquery.min.js?ver=25664de2\" type=\"text/javascript\"></script>\n",
       "<script id=\"clipboard-js\" src=\"https://www.whitehouse.gov/wp-includes/js/clipboard.min.js?ver=5.5.3\" type=\"text/javascript\"></script>\n",
       "<script id=\"bows-js\" src=\"https://www.whitehouse.gov/wp-content/themes/whitehouse/assets/vendor/bows/dist/bows.min.js?ver=25664de2\" type=\"text/javascript\"></script>\n",
       "<script id=\"site-js\" src=\"https://www.whitehouse.gov/wp-content/themes/whitehouse/assets/dist/site.min.js?ver=25664de2\" type=\"text/javascript\"></script>\n",
       "<script id=\"site-js-after\" type=\"text/javascript\">\n",
       "window.site = new Site();\n",
       "</script>\n",
       "</section><div aria-modal=\"true\" class=\"popover\" role=\"dialog\">\n",
       "<div class=\"popover__bar\">\n",
       "<button aria-label=\"Toggle Menu\" class=\"popover__hamburger-toggle\" type=\"button\">\n",
       "<img alt=\"Close Menu\" class=\"popover__hamburger-toggle-close\" height=\"20\" src=\"https://www.whitehouse.gov/wp-content/themes/whitehouse/assets/img/close.svg\" width=\"20\"/>\n",
       "<img alt=\"Open Menu\" class=\"popover__hamburger-toggle-open\" height=\"20\" src=\"https://www.whitehouse.gov/wp-content/themes/whitehouse/assets/img/hamburger.svg\" width=\"28\"/>\n",
       "</button>\n",
       "<button aria-label=\"Toggle Search\" class=\"popover__search-toggle\" type=\"button\">\n",
       "<img alt=\"Close Search\" class=\"popover__search-toggle-close\" height=\"20\" src=\"https://www.whitehouse.gov/wp-content/themes/whitehouse/assets/img/close.svg\" width=\"20\"/>\n",
       "<img alt=\"Open Search\" class=\"popover__search-toggle-open\" height=\"20\" src=\"https://www.whitehouse.gov/wp-content/themes/whitehouse/assets/img/search.svg\" width=\"20\"/>\n",
       "</button>\n",
       "</div>\n",
       "<div class=\"popover__content\">\n",
       "<div class=\"popover__hamburger\">\n",
       "<h2 class=\"visually-hidden\" id=\"popover__hamburger-title\">Menu</h2>\n",
       "<div class=\"popover__nav\">\n",
       "<nav class=\"nav nav--popover\"><ul class=\"nav__menu nav__menu--depth0 menu\"><li class=\"nav__menu-item nav__menu-item--depth0 nav__menu-item--has-submenu nav__menu-item--active-ancestor menu-item menu-item-type-post_type menu-item-object-page menu-item-has-children current-menu-parent current-menu-ancestor nav__menu-item--has-menu-5 menu-item-658\"><a class=\"nav__link\" href=\"https://www.whitehouse.gov/news/\">News</a>\n",
       "<ul class=\"nav__menu nav__menu--depth1 sub-menu\">\n",
       "<li class=\"nav__menu-item nav__menu-item--depth1 menu-item menu-item-type-post_type menu-item-object-page menu-item-152066\"><a class=\"nav__link\" href=\"https://www.whitehouse.gov/remarks/\">Remarks</a></li>\n",
       "<li class=\"nav__menu-item nav__menu-item--depth1 nav__menu-item--active menu-item menu-item-type-post_type_archive menu-item-object-briefing-statement current-menu-item menu-item-105680\"><a class=\"nav__link\" href=\"https://www.whitehouse.gov/briefings-statements/\">Briefings &amp; Statements</a></li>\n",
       "<li class=\"nav__menu-item nav__menu-item--depth1 menu-item menu-item-type-post_type_archive menu-item-object-presidential-action menu-item-105687\"><a class=\"nav__link\" href=\"https://www.whitehouse.gov/presidential-actions/\">Presidential Actions</a></li>\n",
       "<li class=\"nav__menu-item nav__menu-item--depth1 menu-item menu-item-type-post_type menu-item-object-page current_page_parent menu-item-105701\"><a class=\"nav__link\" href=\"https://www.whitehouse.gov/articles/\">Articles</a></li>\n",
       "<li class=\"nav__menu-item nav__menu-item--depth1 menu-item menu-item-type-post_type menu-item-object-page menu-item-105694\"><a class=\"nav__link\" href=\"https://www.whitehouse.gov/news/\">All News</a></li>\n",
       "</ul>\n",
       "</li>\n",
       "<li class=\"nav__menu-item nav__menu-item--depth0 nav__menu-item--has-submenu menu-item menu-item-type-post_type menu-item-object-page menu-item-has-children nav__menu-item--has-menu-6 menu-item-659\"><a class=\"nav__link\" href=\"https://www.whitehouse.gov/issues/\">Issues</a>\n",
       "<ul class=\"nav__menu nav__menu--depth1 sub-menu\">\n",
       "<li class=\"nav__menu-item nav__menu-item--depth1 menu-item menu-item-type-post_type menu-item-object-issue menu-item-105708\"><a class=\"nav__link\" href=\"https://www.whitehouse.gov/issues/education/\">Education</a></li>\n",
       "<li class=\"nav__menu-item nav__menu-item--depth1 menu-item menu-item-type-post_type menu-item-object-issue menu-item-105715\"><a class=\"nav__link\" href=\"https://www.whitehouse.gov/issues/national-security-defense/\">National Security &amp; Defense</a></li>\n",
       "<li class=\"nav__menu-item nav__menu-item--depth1 menu-item menu-item-type-post_type menu-item-object-issue menu-item-105729\"><a class=\"nav__link\" href=\"https://www.whitehouse.gov/issues/budget-spending/\">Budget &amp; Spending</a></li>\n",
       "<li class=\"nav__menu-item nav__menu-item--depth1 menu-item menu-item-type-post_type menu-item-object-issue menu-item-105722\"><a class=\"nav__link\" href=\"https://www.whitehouse.gov/issues/immigration/\">Immigration</a></li>\n",
       "<li class=\"nav__menu-item nav__menu-item--depth1 menu-item menu-item-type-post_type menu-item-object-issue menu-item-105736\"><a class=\"nav__link\" href=\"https://www.whitehouse.gov/issues/healthcare/\">Healthcare</a></li>\n",
       "<li class=\"nav__menu-item nav__menu-item--depth1 menu-item menu-item-type-post_type menu-item-object-page menu-item-105743\"><a class=\"nav__link\" href=\"https://www.whitehouse.gov/issues/\">All Issues</a></li>\n",
       "</ul>\n",
       "</li>\n",
       "<li class=\"nav__menu-item nav__menu-item--depth0 nav__menu-item--has-submenu menu-item menu-item-type-post_type menu-item-object-page menu-item-has-children nav__menu-item--has-menu-6 menu-item-795\"><a class=\"nav__link\" href=\"https://www.whitehouse.gov/the-trump-administration/\">The Administration</a>\n",
       "<ul class=\"nav__menu nav__menu--depth1 sub-menu\">\n",
       "<li class=\"nav__menu-item nav__menu-item--depth1 menu-item menu-item-type-post_type menu-item-object-authors menu-item-105757\"><a class=\"nav__link\" href=\"https://www.whitehouse.gov/people/donald-j-trump/\">President Donald J. Trump</a></li>\n",
       "<li class=\"nav__menu-item nav__menu-item--depth1 menu-item menu-item-type-post_type menu-item-object-authors menu-item-105764\"><a class=\"nav__link\" href=\"https://www.whitehouse.gov/people/mike-pence/\">Vice President Michael R. Pence</a></li>\n",
       "<li class=\"nav__menu-item nav__menu-item--depth1 menu-item menu-item-type-post_type menu-item-object-authors menu-item-105750\"><a class=\"nav__link\" href=\"https://www.whitehouse.gov/people/melania-trump/\">First Lady Melania Trump</a></li>\n",
       "<li class=\"nav__menu-item nav__menu-item--depth1 menu-item menu-item-type-post_type menu-item-object-authors menu-item-105771\"><a class=\"nav__link\" href=\"https://www.whitehouse.gov/people/karen-pence/\">Second Lady Karen Pence</a></li>\n",
       "<li class=\"nav__menu-item nav__menu-item--depth1 menu-item menu-item-type-post_type menu-item-object-page menu-item-105778\"><a class=\"nav__link\" href=\"https://www.whitehouse.gov/the-trump-administration/the-cabinet/\">The Cabinet</a></li>\n",
       "<li class=\"nav__menu-item nav__menu-item--depth1 menu-item menu-item-type-post_type menu-item-object-page menu-item-105785\"><a class=\"nav__link\" href=\"https://www.whitehouse.gov/disclosures/\">Disclosures</a></li>\n",
       "</ul>\n",
       "</li>\n",
       "<li class=\"nav__menu-item nav__menu-item--depth0 nav__menu-item--has-submenu menu-item menu-item-type-custom menu-item-object-custom menu-item-has-children nav__menu-item--has-menu-6 menu-item-105792\"><a class=\"nav__link\" href=\"#\">Executive Offices</a>\n",
       "<ul class=\"nav__menu nav__menu--depth1 sub-menu\">\n",
       "<li class=\"nav__menu-item nav__menu-item--depth1 menu-item menu-item-type-post_type menu-item-object-eop-component menu-item-105806\"><a class=\"nav__link\" href=\"https://www.whitehouse.gov/cea/\">Council of Economic Advisers</a></li>\n",
       "<li class=\"nav__menu-item nav__menu-item--depth1 menu-item menu-item-type-post_type menu-item-object-eop-component menu-item-105799\"><a class=\"nav__link\" href=\"https://www.whitehouse.gov/ceq/\">Council on Environmental Quality</a></li>\n",
       "<li class=\"nav__menu-item nav__menu-item--depth1 menu-item menu-item-type-post_type menu-item-object-eop-component menu-item-105813\"><a class=\"nav__link\" href=\"https://www.whitehouse.gov/nsc/\">National Security Council</a></li>\n",
       "<li class=\"nav__menu-item nav__menu-item--depth1 menu-item menu-item-type-post_type menu-item-object-eop-component menu-item-106142\"><a class=\"nav__link\" href=\"https://www.whitehouse.gov/omb/\">Office of Management and Budget</a></li>\n",
       "<li class=\"nav__menu-item nav__menu-item--depth1 menu-item menu-item-type-post_type menu-item-object-eop-component menu-item-105827\"><a class=\"nav__link\" href=\"https://www.whitehouse.gov/ondcp/\">Office of National Drug Control Policy</a></li>\n",
       "<li class=\"nav__menu-item nav__menu-item--depth1 menu-item menu-item-type-post_type menu-item-object-eop-component menu-item-105834\"><a class=\"nav__link\" href=\"https://www.whitehouse.gov/ostp/\">Office of Science and Technology Policy</a></li>\n",
       "</ul>\n",
       "</li>\n",
       "<li class=\"nav__menu-item nav__menu-item--depth0 nav__menu-item--has-submenu menu-item menu-item-type-post_type menu-item-object-page menu-item-has-children nav__menu-item--has-menu-5 menu-item-1548\"><a class=\"nav__link\" href=\"https://www.whitehouse.gov/about-the-white-house/\">About The White House</a>\n",
       "<ul class=\"nav__menu nav__menu--depth1 sub-menu\">\n",
       "<li class=\"nav__menu-item nav__menu-item--depth1 menu-item menu-item-type-post_type menu-item-object-page menu-item-105848\"><a class=\"nav__link\" href=\"https://www.whitehouse.gov/about-the-white-house/tours-events/\">White House Tours</a></li>\n",
       "<li class=\"nav__menu-item nav__menu-item--depth1 menu-item menu-item-type-post_type menu-item-object-page menu-item-105855\"><a class=\"nav__link\" href=\"https://www.whitehouse.gov/about-the-white-house/presidents/\">Past Presidents</a></li>\n",
       "<li class=\"nav__menu-item nav__menu-item--depth1 menu-item menu-item-type-post_type menu-item-object-page menu-item-105862\"><a class=\"nav__link\" href=\"https://www.whitehouse.gov/about-the-white-house/first-ladies/\">Past First Ladies</a></li>\n",
       "<li class=\"nav__menu-item nav__menu-item--depth1 nav__menu-item--has-submenu menu-item menu-item-type-post_type menu-item-object-page menu-item-has-children nav__menu-item--has-menu-5 menu-item-105995\"><a class=\"nav__link\" href=\"https://www.whitehouse.gov/about-the-white-house/the-grounds/\">The Grounds</a></li>\n",
       "<li class=\"nav__menu-item nav__menu-item--depth1 nav__menu-item--has-submenu menu-item menu-item-type-post_type menu-item-object-page menu-item-has-children nav__menu-item--has-menu-7 menu-item-106079\"><a class=\"nav__link\" href=\"https://www.whitehouse.gov/about-the-white-house/our-government/\">Our Government</a></li>\n",
       "</ul>\n",
       "</li>\n",
       "<li class=\"nav__menu-item nav__menu-item--depth0 nav__menu-item--has-submenu menu-item menu-item-type-post_type menu-item-object-page menu-item-has-children nav__menu-item--has-menu-3 menu-item-5738\"><a class=\"nav__link\" href=\"https://www.whitehouse.gov/get-involved/\">Get Involved</a>\n",
       "<ul class=\"nav__menu nav__menu--depth1 sub-menu\">\n",
       "<li class=\"nav__menu-item nav__menu-item--depth1 menu-item menu-item-type-post_type menu-item-object-page menu-item-105869\"><a class=\"nav__link\" href=\"https://www.whitehouse.gov/get-involved/write-or-call/\">Write or Call the White House</a></li>\n",
       "<li class=\"nav__menu-item nav__menu-item--depth1 nav__menu-item--has-submenu menu-item menu-item-type-post_type menu-item-object-page menu-item-has-children nav__menu-item--has-menu-3 menu-item-105876\"><a class=\"nav__link\" href=\"https://www.whitehouse.gov/get-involved/internships/\">White House Internship Program</a></li>\n",
       "<li class=\"nav__menu-item nav__menu-item--depth1 nav__menu-item--has-submenu menu-item menu-item-type-post_type menu-item-object-page menu-item-has-children nav__menu-item--has-menu-4 menu-item-105904\"><a class=\"nav__link\" href=\"https://www.whitehouse.gov/get-involved/fellows/\">White House Fellows</a></li>\n",
       "</ul>\n",
       "</li>\n",
       "<li class=\"nav__menu-item nav__menu-item--depth0 menu-item menu-item-type-post_type menu-item-object-page menu-item-105988\"><a class=\"nav__link\" href=\"https://www.whitehouse.gov/contact/\">Contact</a></li>\n",
       "<li class=\"nav__menu-item nav__menu-item--depth0 menu-item menu-item-type-post_type menu-item-object-page nav__menu-item--live menu-item-105974\"><a class=\"nav__link\" href=\"https://www.whitehouse.gov/live/\"><span class=\"nav__menu-item-label\">Live</span></a></li>\n",
       "</ul></nav> </div>\n",
       "<div class=\"popover__seal\">\n",
       "<img alt=\"Presidential Crest\" height=\"435\" src=\"https://www.whitehouse.gov/wp-content/themes/whitehouse/assets/img/presidential-crest-gray.svg\" width=\"435\"/>\n",
       "</div>\n",
       "</div>\n",
       "<div class=\"popover__search\">\n",
       "<h2 class=\"visually-hidden\" id=\"popover__search-title\">Search</h2>\n",
       "<form action=\"https://www.whitehouse.gov/search/\" class=\"popover__search-form\">\n",
       "<label class=\"visually-hidden\" for=\"popover__search-input\">\n",
       "\t\t\t\t\tType Your Search\n",
       "\t\t\t\t</label>\n",
       "<input autocomplete=\"off\" class=\"popover__search-input\" id=\"popover__search-input\" name=\"s\" placeholder=\"Type Your Search...\" type=\"search\"/>\n",
       "<button class=\"popover__search-submit\" type=\"submit\"><span>Press enter to search</span></button>\n",
       "</form>\n",
       "</div>\n",
       "</div>\n",
       "</div>\n",
       "<script type=\"text/javascript\">window.NREUM||(NREUM={});NREUM.info={\"beacon\":\"bam-cell.nr-data.net\",\"licenseKey\":\"9360826e15\",\"applicationID\":\"81062413,484304241,484396381\",\"transactionName\":\"MVNbZhQFXEAEVBBfWQgZeFESDV1dSkQNWFEKUxRQFA1XVQxZAxtFEldNVwsBXEc=\",\"queueTime\":0,\"applicationTime\":229,\"atts\":\"HRRYEFwfT04=\",\"errorBeacon\":\"bam-cell.nr-data.net\",\"agent\":\"\"}</script></body>\n",
       "</html>"
      ]
     },
     "execution_count": 44,
     "metadata": {},
     "output_type": "execute_result"
    }
   ],
   "source": [
    "soup=BeautifulSoup(page.content, 'html.parser')\n",
    "soup"
   ]
  },
  {
   "cell_type": "code",
   "execution_count": 46,
   "metadata": {},
   "outputs": [
    {
     "data": {
      "text/plain": [
       "[<p class=\"page-header__section\">\n",
       " \t\t\t\tRemarks\t\t\t</p>,\n",
       " <p class=\"meta__date\">\n",
       " <span class=\"meta__label\">Issued on:</span>\n",
       " <time>January 20, 2017</time>\n",
       " </p>,\n",
       " <p style=\"text-align: center;\"><strong>REMARKS OF PRESIDENT DONALD J. TRUMP – AS PREPARED FOR DELIVERY</strong><br/>\n",
       " <strong>INAUGURAL ADDRESS</strong><br/>\n",
       " <strong>FRIDAY, JANUARY 20, 2017</strong><br/>\n",
       " <strong>WASHINGTON, D.C.</strong></p>,\n",
       " <p style=\"text-align: left;\"><em>As Prepared for Delivery –</em></p>,\n",
       " <p>Chief Justice Roberts, President Carter, President Clinton, President Bush, President Obama, fellow Americans, and people of the world: thank you.</p>,\n",
       " <p>We, the citizens of America, are now joined in a great national effort to rebuild our country and to restore its promise for all of our people.</p>,\n",
       " <p>Together, we will determine the course of America and the world for years to come.</p>,\n",
       " <p>We will face challenges. We will confront hardships. But we will get the job done.</p>,\n",
       " <p>Every four years, we gather on these steps to carry out the orderly and peaceful transfer of power, and we are grateful to President Obama and First Lady Michelle Obama for their gracious aid throughout this transition. They have been magnificent.</p>,\n",
       " <p>Today’s ceremony, however, has very special meaning. Because today we are not merely transferring power from one Administration to another, or from one party to another – but we are transferring power from Washington, D.C. and giving it back to you, the American People.</p>,\n",
       " <p>For too long, a small group in our nation’s Capital has reaped the rewards of government while the people have borne the cost.</p>,\n",
       " <p>Washington flourished – but the people did not share in its wealth.</p>,\n",
       " <p>Politicians prospered – but the jobs left, and the factories closed.</p>,\n",
       " <p>The establishment protected itself, but not the citizens of our country.</p>,\n",
       " <p>Their victories have not been your victories; their triumphs have not been your triumphs; and while they celebrated in our nation’s Capital, there was little to celebrate for struggling families all across our land.</p>,\n",
       " <p>That all changes – starting right here, and right now, because this moment is your moment: it belongs to you.</p>,\n",
       " <p>It belongs to everyone gathered here today and everyone watching all across America.</p>,\n",
       " <p>This is your day. This is your celebration.</p>,\n",
       " <p>And this, the United States of America, is your country.</p>,\n",
       " <p>What truly matters is not which party controls our government, but whether our government is controlled by the people.</p>,\n",
       " <p>January 20th 2017, will be remembered as the day the people became the rulers of this nation again.</p>,\n",
       " <p>The forgotten men and women of our country will be forgotten no longer.</p>,\n",
       " <p>Everyone is listening to you now.</p>,\n",
       " <p>You came by the tens of millions to become part of a historic movement the likes of which the world has never seen before.</p>,\n",
       " <p>At the center of this movement is a crucial conviction: that a nation exists to serve its citizens.</p>,\n",
       " <p>Americans want great schools for their children, safe neighborhoods for their families, and good jobs for themselves.</p>,\n",
       " <p>These are the just and reasonable demands of a righteous public.</p>,\n",
       " <p>But for too many of our citizens, a different reality exists: Mothers and children trapped in poverty in our inner cities; rusted-out factories scattered like tombstones across the landscape of our nation; an education system, flush with cash, but which leaves our young and beautiful students deprived of knowledge; and the crime and gangs and drugs that have stolen too many lives and robbed our country of so much unrealized potential.</p>,\n",
       " <p>This American carnage stops right here and stops right now.</p>,\n",
       " <p>We are one nation – and their pain is our pain. Their dreams are our dreams; and their success will be our success. We share one heart, one home, and one glorious destiny.</p>,\n",
       " <p>The oath of office I take today is an oath of allegiance to all Americans.</p>,\n",
       " <p>For many decades, we’ve enriched foreign industry at the expense of American industry;</p>,\n",
       " <p>Subsidized the armies of other countries while allowing for the very sad depletion of our military;</p>,\n",
       " <p>We’ve defended other nation’s borders while refusing to defend our own;</p>,\n",
       " <p>And spent trillions of dollars overseas while America’s infrastructure has fallen into disrepair and decay.</p>,\n",
       " <p>We’ve made other countries rich while the wealth, strength, and confidence of our country has disappeared over the horizon.</p>,\n",
       " <p>One by one, the factories shuttered and left our shores, with not even a thought about the millions upon millions of American workers left behind.</p>,\n",
       " <p>The wealth of our middle class has been ripped from their homes and then redistributed across the entire world.</p>,\n",
       " <p>But that is the past. And now we are looking only to the future.</p>,\n",
       " <p>We assembled here today are issuing a new decree to be heard in every city, in every foreign capital, and in every hall of power.</p>,\n",
       " <p>From this day forward, a new vision will govern our land.</p>,\n",
       " <p>From this moment on, it’s going to be America First.</p>,\n",
       " <p>Every decision on trade, on taxes, on immigration, on foreign affairs, will be made to benefit American workers and American families.</p>,\n",
       " <p>We must protect our borders from the ravages of other countries making our products, stealing our companies, and destroying our jobs. Protection will lead to great prosperity and strength.</p>,\n",
       " <p>I will fight for you with every breath in my body – and I will never, ever let you down.</p>,\n",
       " <p>America will start winning again, winning like never before.</p>,\n",
       " <p>We will bring back our jobs. We will bring back our borders. We will bring back our wealth. And we will bring back our dreams.</p>,\n",
       " <p>We will build new roads, and highways, and bridges, and airports, and tunnels, and railways all across our wonderful nation.</p>,\n",
       " <p>We will get our people off of welfare and back to work – rebuilding our country with American hands and American labor.</p>,\n",
       " <p>We will follow two simple rules: Buy American and Hire American.</p>,\n",
       " <p>We will seek friendship and goodwill with the nations of the world – but we do so with the understanding that it is the right of all nations to put their own interests first.</p>,\n",
       " <p>We do not seek to impose our way of life on anyone, but rather to let it shine as an example for everyone to follow.</p>,\n",
       " <p>We will reinforce old alliances and form new ones – and unite the civilized world against Radical Islamic Terrorism, which we will eradicate completely from the face of the Earth.</p>,\n",
       " <p>At the bedrock of our politics will be a total allegiance to the United States of America, and through our loyalty to our country, we will rediscover our loyalty to each other.</p>,\n",
       " <p>When you open your heart to patriotism, there is no room for prejudice.</p>,\n",
       " <p>The Bible tells us, “how good and pleasant it is when God’s people live together in unity.”</p>,\n",
       " <p>We must speak our minds openly, debate our disagreements honestly, but always pursue solidarity.</p>,\n",
       " <p>When America is united, America is totally unstoppable.</p>,\n",
       " <p>There should be no fear – we are protected, and we will always be protected.</p>,\n",
       " <p>We will be protected by the great men and women of our military and law enforcement and, most importantly, we are protected by God.</p>,\n",
       " <p>Finally, we must think big and dream even bigger.</p>,\n",
       " <p>In America, we understand that a nation is only living as long as it is striving.</p>,\n",
       " <p>We will no longer accept politicians who are all talk and no action – constantly complaining but never doing anything about it.</p>,\n",
       " <p>The time for empty talk is over.</p>,\n",
       " <p>Now arrives the hour of action.</p>,\n",
       " <p>Do not let anyone tell you it cannot be done. No challenge can match the heart and fight and spirit of America.</p>,\n",
       " <p>We will not fail. Our country will thrive and prosper again.</p>,\n",
       " <p>We stand at the birth of a new millennium, ready to unlock the mysteries of space, to free the Earth from the miseries of disease, and to harness the energies, industries and technologies of tomorrow.</p>,\n",
       " <p>A new national pride will stir our souls, lift our sights, and heal our divisions.</p>,\n",
       " <p>It is time to remember that old wisdom our soldiers will never forget: that whether we are black or brown or white, we all bleed the same red blood of patriots, we all enjoy the same glorious freedoms, and we all salute the same great American Flag.</p>,\n",
       " <p>And whether a child is born in the urban sprawl of Detroit or the windswept plains of Nebraska, they look up at the same night sky, they fill their heart with the same dreams, and they are infused with the breath of life by the same almighty Creator.</p>,\n",
       " <p>So to all Americans, in every city near and far, small and large, from mountain to mountain, and from ocean to ocean, hear these words:</p>,\n",
       " <p>You will never be ignored again.</p>,\n",
       " <p>Your voice, your hopes, and your dreams, will define our American destiny. And your courage and goodness and love will forever guide us along the way.</p>,\n",
       " <p>Together, We Will Make America Strong Again.</p>,\n",
       " <p>We Will Make America Wealthy Again.</p>,\n",
       " <p>We Will Make America Proud Again.</p>,\n",
       " <p>We Will Make America Safe Again.</p>,\n",
       " <p>And, Yes, Together, We Will Make America Great Again. Thank you, God Bless You, And God Bless America.</p>]"
      ]
     },
     "execution_count": 46,
     "metadata": {},
     "output_type": "execute_result"
    }
   ],
   "source": [
    "out_list=soup.select(\"body p\")\n",
    "out_list"
   ]
  },
  {
   "cell_type": "code",
   "execution_count": 47,
   "metadata": {},
   "outputs": [
    {
     "name": "stdout",
     "output_type": "stream",
     "text": [
      "\n",
      "\t\t\t\tRemarks\t\t\t\n",
      "\n",
      "Issued on:\n",
      "January 20, 2017\n",
      "\n",
      "REMARKS OF PRESIDENT DONALD J. TRUMP – AS PREPARED FOR DELIVERY\n",
      "INAUGURAL ADDRESS\n",
      "FRIDAY, JANUARY 20, 2017\n",
      "WASHINGTON, D.C.\n",
      "As Prepared for Delivery –\n",
      "Chief Justice Roberts, President Carter, President Clinton, President Bush, President Obama, fellow Americans, and people of the world: thank you.\n",
      "We, the citizens of America, are now joined in a great national effort to rebuild our country and to restore its promise for all of our people.\n",
      "Together, we will determine the course of America and the world for years to come.\n",
      "We will face challenges. We will confront hardships. But we will get the job done.\n",
      "Every four years, we gather on these steps to carry out the orderly and peaceful transfer of power, and we are grateful to President Obama and First Lady Michelle Obama for their gracious aid throughout this transition. They have been magnificent.\n",
      "Today’s ceremony, however, has very special meaning. Because today we are not merely transferring power from one Administration to another, or from one party to another – but we are transferring power from Washington, D.C. and giving it back to you, the American People.\n",
      "For too long, a small group in our nation’s Capital has reaped the rewards of government while the people have borne the cost.\n",
      "Washington flourished – but the people did not share in its wealth.\n",
      "Politicians prospered – but the jobs left, and the factories closed.\n",
      "The establishment protected itself, but not the citizens of our country.\n",
      "Their victories have not been your victories; their triumphs have not been your triumphs; and while they celebrated in our nation’s Capital, there was little to celebrate for struggling families all across our land.\n",
      "That all changes – starting right here, and right now, because this moment is your moment: it belongs to you.\n",
      "It belongs to everyone gathered here today and everyone watching all across America.\n",
      "This is your day. This is your celebration.\n",
      "And this, the United States of America, is your country.\n",
      "What truly matters is not which party controls our government, but whether our government is controlled by the people.\n",
      "January 20th 2017, will be remembered as the day the people became the rulers of this nation again.\n",
      "The forgotten men and women of our country will be forgotten no longer.\n",
      "Everyone is listening to you now.\n",
      "You came by the tens of millions to become part of a historic movement the likes of which the world has never seen before.\n",
      "At the center of this movement is a crucial conviction: that a nation exists to serve its citizens.\n",
      "Americans want great schools for their children, safe neighborhoods for their families, and good jobs for themselves.\n",
      "These are the just and reasonable demands of a righteous public.\n",
      "But for too many of our citizens, a different reality exists: Mothers and children trapped in poverty in our inner cities; rusted-out factories scattered like tombstones across the landscape of our nation; an education system, flush with cash, but which leaves our young and beautiful students deprived of knowledge; and the crime and gangs and drugs that have stolen too many lives and robbed our country of so much unrealized potential.\n",
      "This American carnage stops right here and stops right now.\n",
      "We are one nation – and their pain is our pain. Their dreams are our dreams; and their success will be our success. We share one heart, one home, and one glorious destiny.\n",
      "The oath of office I take today is an oath of allegiance to all Americans.\n",
      "For many decades, we’ve enriched foreign industry at the expense of American industry;\n",
      "Subsidized the armies of other countries while allowing for the very sad depletion of our military;\n",
      "We’ve defended other nation’s borders while refusing to defend our own;\n",
      "And spent trillions of dollars overseas while America’s infrastructure has fallen into disrepair and decay.\n",
      "We’ve made other countries rich while the wealth, strength, and confidence of our country has disappeared over the horizon.\n",
      "One by one, the factories shuttered and left our shores, with not even a thought about the millions upon millions of American workers left behind.\n",
      "The wealth of our middle class has been ripped from their homes and then redistributed across the entire world.\n",
      "But that is the past. And now we are looking only to the future.\n",
      "We assembled here today are issuing a new decree to be heard in every city, in every foreign capital, and in every hall of power.\n",
      "From this day forward, a new vision will govern our land.\n",
      "From this moment on, it’s going to be America First.\n",
      "Every decision on trade, on taxes, on immigration, on foreign affairs, will be made to benefit American workers and American families.\n",
      "We must protect our borders from the ravages of other countries making our products, stealing our companies, and destroying our jobs. Protection will lead to great prosperity and strength.\n",
      "I will fight for you with every breath in my body – and I will never, ever let you down.\n",
      "America will start winning again, winning like never before.\n",
      "We will bring back our jobs. We will bring back our borders. We will bring back our wealth. And we will bring back our dreams.\n",
      "We will build new roads, and highways, and bridges, and airports, and tunnels, and railways all across our wonderful nation.\n",
      "We will get our people off of welfare and back to work – rebuilding our country with American hands and American labor.\n",
      "We will follow two simple rules: Buy American and Hire American.\n",
      "We will seek friendship and goodwill with the nations of the world – but we do so with the understanding that it is the right of all nations to put their own interests first.\n",
      "We do not seek to impose our way of life on anyone, but rather to let it shine as an example for everyone to follow.\n",
      "We will reinforce old alliances and form new ones – and unite the civilized world against Radical Islamic Terrorism, which we will eradicate completely from the face of the Earth.\n",
      "At the bedrock of our politics will be a total allegiance to the United States of America, and through our loyalty to our country, we will rediscover our loyalty to each other.\n",
      "When you open your heart to patriotism, there is no room for prejudice.\n",
      "The Bible tells us, “how good and pleasant it is when God’s people live together in unity.”\n",
      "We must speak our minds openly, debate our disagreements honestly, but always pursue solidarity.\n",
      "When America is united, America is totally unstoppable.\n",
      "There should be no fear – we are protected, and we will always be protected.\n",
      "We will be protected by the great men and women of our military and law enforcement and, most importantly, we are protected by God.\n",
      "Finally, we must think big and dream even bigger.\n",
      "In America, we understand that a nation is only living as long as it is striving.\n",
      "We will no longer accept politicians who are all talk and no action – constantly complaining but never doing anything about it.\n",
      "The time for empty talk is over.\n",
      "Now arrives the hour of action.\n",
      "Do not let anyone tell you it cannot be done. No challenge can match the heart and fight and spirit of America.\n",
      "We will not fail. Our country will thrive and prosper again.\n",
      "We stand at the birth of a new millennium, ready to unlock the mysteries of space, to free the Earth from the miseries of disease, and to harness the energies, industries and technologies of tomorrow.\n",
      "A new national pride will stir our souls, lift our sights, and heal our divisions.\n",
      "It is time to remember that old wisdom our soldiers will never forget: that whether we are black or brown or white, we all bleed the same red blood of patriots, we all enjoy the same glorious freedoms, and we all salute the same great American Flag.\n",
      "And whether a child is born in the urban sprawl of Detroit or the windswept plains of Nebraska, they look up at the same night sky, they fill their heart with the same dreams, and they are infused with the breath of life by the same almighty Creator.\n",
      "So to all Americans, in every city near and far, small and large, from mountain to mountain, and from ocean to ocean, hear these words:\n",
      "You will never be ignored again.\n",
      "Your voice, your hopes, and your dreams, will define our American destiny. And your courage and goodness and love will forever guide us along the way.\n",
      "Together, We Will Make America Strong Again.\n",
      "We Will Make America Wealthy Again.\n",
      "We Will Make America Proud Again.\n",
      "We Will Make America Safe Again.\n",
      "And, Yes, Together, We Will Make America Great Again. Thank you, God Bless You, And God Bless America.\n"
     ]
    }
   ],
   "source": [
    "for out in out_list:\n",
    "    print(out.get_text())"
   ]
  },
  {
   "cell_type": "code",
   "execution_count": 49,
   "metadata": {},
   "outputs": [
    {
     "data": {
      "text/plain": [
       "[]"
      ]
     },
     "execution_count": 49,
     "metadata": {},
     "output_type": "execute_result"
    }
   ],
   "source": [
    "soup.find_all('p', clss_='outer-text')"
   ]
  },
  {
   "cell_type": "code",
   "execution_count": null,
   "metadata": {},
   "outputs": [],
   "source": []
  }
 ],
 "metadata": {
  "kernelspec": {
   "display_name": "Python 3",
   "language": "python",
   "name": "python3"
  },
  "language_info": {
   "codemirror_mode": {
    "name": "ipython",
    "version": 3
   },
   "file_extension": ".py",
   "mimetype": "text/x-python",
   "name": "python",
   "nbconvert_exporter": "python",
   "pygments_lexer": "ipython3",
   "version": "3.7.6"
  }
 },
 "nbformat": 4,
 "nbformat_minor": 4
}
